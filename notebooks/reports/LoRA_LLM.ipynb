{
 "cells": [
  {
   "cell_type": "code",
   "execution_count": 1,
   "metadata": {},
   "outputs": [],
   "source": [
    "import pandas as pd\n",
    "import torch\n",
    "from sklearn.model_selection import train_test_split\n",
    "from transformers import AutoTokenizer, AutoModelForCausalLM, Trainer, TrainingArguments, DataCollatorForLanguageModeling\n",
    "from peft import get_peft_model, LoraConfig, TaskType, prepare_model_for_kbit_training\n",
    "\n",
    "from src.analytics_module.config import Config"
   ]
  },
  {
   "cell_type": "code",
   "execution_count": 2,
   "metadata": {},
   "outputs": [],
   "source": [
    "config = Config()"
   ]
  },
  {
   "cell_type": "markdown",
   "metadata": {},
   "source": [
    "# Init tokenizer and model"
   ]
  },
  {
   "cell_type": "code",
   "execution_count": 3,
   "metadata": {},
   "outputs": [
    {
     "name": "stderr",
     "output_type": "stream",
     "text": [
      "Special tokens have been added in the vocabulary, make sure the associated word embeddings are fine-tuned or trained.\n"
     ]
    },
    {
     "data": {
      "application/vnd.jupyter.widget-view+json": {
       "model_id": "8fa567ee49814d32b9bbc23b50276173",
       "version_major": 2,
       "version_minor": 0
      },
      "text/plain": [
       "Loading checkpoint shards:   0%|          | 0/2 [00:00<?, ?it/s]"
      ]
     },
     "metadata": {},
     "output_type": "display_data"
    }
   ],
   "source": [
    "tokenizer = AutoTokenizer.from_pretrained(config.prod_model, trust_remote_code=True)\n",
    "\n",
    "# tokenizer.pad_token = tokenizer.eos_token\n",
    "\n",
    "# bnb_config = BitsAndBytesConfig(\n",
    "#    load_in_8bit=True,\n",
    "# #    bnb_4bit_quant_type=\"nf4\",\n",
    "# #    bnb_4bit_use_double_quant=True,\n",
    "#    bnb_8bit_compute_dtype=torch.bfloat16\n",
    "# )\n",
    "\n",
    "model = AutoModelForCausalLM.from_pretrained(config.prod_model, device_map=\"auto\", torch_dtype=torch.bfloat16, trust_remote_code=True)"
   ]
  },
  {
   "cell_type": "markdown",
   "metadata": {},
   "source": [
    "# Prepare data"
   ]
  },
  {
   "cell_type": "code",
   "execution_count": 5,
   "metadata": {},
   "outputs": [
    {
     "data": {
      "text/html": [
       "<div>\n",
       "<style scoped>\n",
       "    .dataframe tbody tr th:only-of-type {\n",
       "        vertical-align: middle;\n",
       "    }\n",
       "\n",
       "    .dataframe tbody tr th {\n",
       "        vertical-align: top;\n",
       "    }\n",
       "\n",
       "    .dataframe thead th {\n",
       "        text-align: right;\n",
       "    }\n",
       "</style>\n",
       "<table border=\"1\" class=\"dataframe\">\n",
       "  <thead>\n",
       "    <tr style=\"text-align: right;\">\n",
       "      <th></th>\n",
       "      <th>Class</th>\n",
       "      <th>HTTP</th>\n",
       "    </tr>\n",
       "  </thead>\n",
       "  <tbody>\n",
       "    <tr>\n",
       "      <th>0</th>\n",
       "      <td>False</td>\n",
       "      <td>Method: GET\\nURI: /tienda1/index.jsp\\nHost-Hea...</td>\n",
       "    </tr>\n",
       "    <tr>\n",
       "      <th>1</th>\n",
       "      <td>False</td>\n",
       "      <td>Method: GET\\nURI: /tienda1/publico/anadir.jsp\\...</td>\n",
       "    </tr>\n",
       "    <tr>\n",
       "      <th>2</th>\n",
       "      <td>False</td>\n",
       "      <td>Method: POST\\nURI: /tienda1/publico/anadir.jsp...</td>\n",
       "    </tr>\n",
       "    <tr>\n",
       "      <th>3</th>\n",
       "      <td>False</td>\n",
       "      <td>Method: GET\\nURI: /tienda1/publico/autenticar....</td>\n",
       "    </tr>\n",
       "    <tr>\n",
       "      <th>4</th>\n",
       "      <td>False</td>\n",
       "      <td>Method: POST\\nURI: /tienda1/publico/autenticar...</td>\n",
       "    </tr>\n",
       "    <tr>\n",
       "      <th>...</th>\n",
       "      <td>...</td>\n",
       "      <td>...</td>\n",
       "    </tr>\n",
       "    <tr>\n",
       "      <th>84952</th>\n",
       "      <td>True</td>\n",
       "      <td>Method: GET\\nURI: /rE8DdhJ/etdhkynu/rrnmmnigmi...</td>\n",
       "    </tr>\n",
       "    <tr>\n",
       "      <th>84953</th>\n",
       "      <td>True</td>\n",
       "      <td>Method: GET\\nURI: /gaPdpj5.asp\\nHost-Header: H...</td>\n",
       "    </tr>\n",
       "    <tr>\n",
       "      <th>84954</th>\n",
       "      <td>True</td>\n",
       "      <td>Method: GET\\nURI: /e-QJHS/2QbmonuFzt7mzoe1oi/6...</td>\n",
       "    </tr>\n",
       "    <tr>\n",
       "      <th>84955</th>\n",
       "      <td>True</td>\n",
       "      <td>Method: GET\\nURI: /unwosgmihia/Tlwjatcoc4oleoi...</td>\n",
       "    </tr>\n",
       "    <tr>\n",
       "      <th>84956</th>\n",
       "      <td>True</td>\n",
       "      <td>Method: GET\\nURI: /iL/eVelxLa4ke_/tdhJ/k6g4us4...</td>\n",
       "    </tr>\n",
       "  </tbody>\n",
       "</table>\n",
       "<p>84957 rows × 2 columns</p>\n",
       "</div>"
      ],
      "text/plain": [
       "       Class                                               HTTP\n",
       "0      False  Method: GET\\nURI: /tienda1/index.jsp\\nHost-Hea...\n",
       "1      False  Method: GET\\nURI: /tienda1/publico/anadir.jsp\\...\n",
       "2      False  Method: POST\\nURI: /tienda1/publico/anadir.jsp...\n",
       "3      False  Method: GET\\nURI: /tienda1/publico/autenticar....\n",
       "4      False  Method: POST\\nURI: /tienda1/publico/autenticar...\n",
       "...      ...                                                ...\n",
       "84952   True  Method: GET\\nURI: /rE8DdhJ/etdhkynu/rrnmmnigmi...\n",
       "84953   True  Method: GET\\nURI: /gaPdpj5.asp\\nHost-Header: H...\n",
       "84954   True  Method: GET\\nURI: /e-QJHS/2QbmonuFzt7mzoe1oi/6...\n",
       "84955   True  Method: GET\\nURI: /unwosgmihia/Tlwjatcoc4oleoi...\n",
       "84956   True  Method: GET\\nURI: /iL/eVelxLa4ke_/tdhJ/k6g4us4...\n",
       "\n",
       "[84957 rows x 2 columns]"
      ]
     },
     "execution_count": 5,
     "metadata": {},
     "output_type": "execute_result"
    }
   ],
   "source": [
    "df = pd.read_parquet(config.data_file_path)\n",
    "df"
   ]
  },
  {
   "cell_type": "code",
   "execution_count": 7,
   "metadata": {},
   "outputs": [],
   "source": [
    "with open(config.user_prompt_path) as user_prompt_file:\n",
    "    user_prompt = user_prompt_file.read()\n",
    "\n",
    "with open(config.system_prompt_path) as system_prompt_file:\n",
    "    system_prompt = system_prompt_file.read()"
   ]
  },
  {
   "cell_type": "code",
   "execution_count": null,
   "metadata": {},
   "outputs": [],
   "source": [
    "X_train, X_test = train_test_split(df, train_size=0.8, random_state=config.random_seed)"
   ]
  },
  {
   "cell_type": "code",
   "execution_count": null,
   "metadata": {},
   "outputs": [],
   "source": []
  },
  {
   "cell_type": "code",
   "execution_count": null,
   "metadata": {},
   "outputs": [],
   "source": [
    "def tokenize_function(data):\n",
    "\n",
    "    msg = [\n",
    "            {\n",
    "                \"role\": \"system\",\n",
    "                \"content\": system_prompt,\n",
    "            },\n",
    "            {\n",
    "                \"role\": \"user\",\n",
    "                \"content\": f\"'''{data[\"HTTP\"]}'''\\n{user_prompt}\"\n",
    "            },\n",
    "            {\n",
    "                \"role\": \"user\",\n",
    "                \"content\": f\"{data[\"Class\"]}\"\n",
    "            },\n",
    "        ]\n",
    "        ]\n",
    "    # extract text\n",
    "    text = examples[\"HTTP\"]\n",
    "\n",
    "    #tokenize and truncate text\n",
    "    tokenizer.truncation_side = \"left\"\n",
    "    tokenized_inputs = tokenizer(\n",
    "        text,\n",
    "        return_tensors=\"pt\",\n",
    "        truncation=True,\n",
    "        max_length=1024\n",
    "    )\n",
    "\n",
    "    return tokenized_inputs"
   ]
  },
  {
   "cell_type": "markdown",
   "metadata": {},
   "source": [
    "# LoRA"
   ]
  },
  {
   "cell_type": "code",
   "execution_count": null,
   "metadata": {},
   "outputs": [],
   "source": [
    "model.gradient_checkpointing_enable()\n",
    "model = prepare_model_for_kbit_training(model)\n",
    "\n",
    "peft_config = LoraConfig(inference_mode=False, r=8, lora_alpha=32, lora_dropout=0.1, peft_type=TaskType.CAUSAL_LM)\n",
    "peft_model = get_peft_model(model, peft_config)\n",
    "\n",
    "print(peft_model.print_trainable_parameters())"
   ]
  },
  {
   "cell_type": "code",
   "execution_count": 8,
   "metadata": {},
   "outputs": [],
   "source": [
    "if torch.cuda.device_count() > 1: \n",
    "    model.is_parallelizable = True\n",
    "    model.model_parallel = True"
   ]
  },
  {
   "cell_type": "code",
   "execution_count": null,
   "metadata": {},
   "outputs": [],
   "source": [
    "data_collator = DataCollatorForLanguageModeling(tokenizer, mlm=False)\n",
    "\n",
    "trainer = Trainer(\n",
    "                    model = peft_model, \n",
    "                    train_dataset=train_dataset, \n",
    "                    eval_dataset = test_dataset,\n",
    "                    tokenizer = tokenizer, \n",
    "                    data_collator = data_collator, \n",
    "\n",
    "                    args = TrainingArguments(\n",
    "                        output_dir=\"./training\",\n",
    "                        remove_unused_columns=False,\n",
    "                        per_device_train_batch_size=2,\n",
    "                        gradient_checkpointing=True,\n",
    "                        gradient_accumulation_steps=4,\n",
    "                        max_steps=200,\n",
    "                        learning_rate=2.5e-5, \n",
    "                        logging_steps=5,\n",
    "                        fp16=True,\n",
    "                        optim=\"paged_adamw_8bit\",\n",
    "                        save_strategy=\"steps\",     \n",
    "                        save_steps=50,             \n",
    "                        evaluation_strategy=\"steps\",\n",
    "                        eval_steps=5,              \n",
    "                        do_eval=True,\n",
    "                        label_names = [\"input_ids\", \"labels\", \"attention_mask\"],\n",
    "                        report_to = \"none\",\n",
    "                        \n",
    "                ))"
   ]
  },
  {
   "cell_type": "code",
   "execution_count": null,
   "metadata": {},
   "outputs": [],
   "source": [
    "trainer.train()"
   ]
  }
 ],
 "metadata": {
  "kernelspec": {
   "display_name": "waf-ml-fNh1x5vK-py3.10",
   "language": "python",
   "name": "python3"
  },
  "language_info": {
   "codemirror_mode": {
    "name": "ipython",
    "version": 3
   },
   "file_extension": ".py",
   "mimetype": "text/x-python",
   "name": "python",
   "nbconvert_exporter": "python",
   "pygments_lexer": "ipython3",
   "version": "3.10.11"
  }
 },
 "nbformat": 4,
 "nbformat_minor": 2
}
