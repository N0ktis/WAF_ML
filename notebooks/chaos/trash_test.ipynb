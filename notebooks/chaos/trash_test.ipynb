{
 "cells": [
  {
   "cell_type": "code",
   "execution_count": 1,
   "metadata": {},
   "outputs": [],
   "source": [
    "import pandas as pd"
   ]
  },
  {
   "cell_type": "code",
   "execution_count": 12,
   "metadata": {},
   "outputs": [],
   "source": [
    "import os\n",
    "from scapy.all import *\n",
    "\n",
    "def sniff_raw_packets(interface):\n",
    "    sniff(iface=interface, prn=lambda x: x.show(), store=0)\n",
    "\n",
    "def get_http_data(packet):\n",
    "    if packet.haslayer(TCP) and packet.haslayer(Raw):\n",
    "        payload = str(packet[TCP].payload)\n",
    "    if \"HTTP\" in payload:\n",
    "        return payload\n",
    "\n",
    "def sniff_http(interface):\n",
    "    sniff(iface=interface, filter=\"tcp port 80\", prn=sniff_http,store=0)\n",
    "\n",
    "def start(sniff_type = 'L7'):\n",
    "    interface = os.getenv('IFACE')\n",
    "\n",
    "    match sniff_type:\n",
    "        case 'L7':\n",
    "            sniff_http(interface)\n",
    "        case _:\n",
    "            sniff_raw_packets(interface)"
   ]
  },
  {
   "cell_type": "code",
   "execution_count": 1,
   "metadata": {},
   "outputs": [
    {
     "ename": "PermissionError",
     "evalue": "[Errno 1] Operation not permitted",
     "output_type": "error",
     "traceback": [
      "\u001b[0;31m---------------------------------------------------------------------------\u001b[0m",
      "\u001b[0;31mPermissionError\u001b[0m                           Traceback (most recent call last)",
      "Cell \u001b[0;32mIn[1], line 3\u001b[0m\n\u001b[1;32m      1\u001b[0m \u001b[38;5;28;01mfrom\u001b[39;00m \u001b[38;5;21;01mscapy\u001b[39;00m\u001b[38;5;21;01m.\u001b[39;00m\u001b[38;5;21;01mlayers\u001b[39;00m\u001b[38;5;21;01m.\u001b[39;00m\u001b[38;5;21;01mhttp\u001b[39;00m \u001b[38;5;28;01mimport\u001b[39;00m \u001b[38;5;241m*\u001b[39m \u001b[38;5;66;03m# read the doc\u001b[39;00m\n\u001b[1;32m      2\u001b[0m \u001b[38;5;28;01mfrom\u001b[39;00m \u001b[38;5;21;01mscapy\u001b[39;00m\u001b[38;5;21;01m.\u001b[39;00m\u001b[38;5;21;01msendrecv\u001b[39;00m \u001b[38;5;28;01mimport\u001b[39;00m sniff\n\u001b[0;32m----> 3\u001b[0m \u001b[43msniff\u001b[49m\u001b[43m(\u001b[49m\u001b[43mlfilter\u001b[49m\u001b[38;5;241;43m=\u001b[39;49m\u001b[38;5;28;43;01mlambda\u001b[39;49;00m\u001b[43m \u001b[49m\u001b[43mx\u001b[49m\u001b[43m:\u001b[49m\u001b[43m \u001b[49m\u001b[43mHTTP\u001b[49m\u001b[43m \u001b[49m\u001b[38;5;129;43;01min\u001b[39;49;00m\u001b[43m \u001b[49m\u001b[43mx\u001b[49m\u001b[43m,\u001b[49m\u001b[43m \u001b[49m\u001b[43mprn\u001b[49m\u001b[38;5;241;43m=\u001b[39;49m\u001b[38;5;28;43;01mlambda\u001b[39;49;00m\u001b[43m \u001b[49m\u001b[43mx\u001b[49m\u001b[43m:\u001b[49m\u001b[43m \u001b[49m\u001b[43mx\u001b[49m\u001b[38;5;241;43m.\u001b[39;49m\u001b[43msummary\u001b[49m\u001b[43m(\u001b[49m\u001b[43m)\u001b[49m\u001b[43m)\u001b[49m\n",
      "File \u001b[0;32m~/.cache/pypoetry/virtualenvs/waf-ml-Gfc2DYyB-py3.10/lib/python3.10/site-packages/scapy/sendrecv.py:1311\u001b[0m, in \u001b[0;36msniff\u001b[0;34m(*args, **kwargs)\u001b[0m\n\u001b[1;32m   1307\u001b[0m \u001b[38;5;129m@conf\u001b[39m\u001b[38;5;241m.\u001b[39mcommands\u001b[38;5;241m.\u001b[39mregister\n\u001b[1;32m   1308\u001b[0m \u001b[38;5;28;01mdef\u001b[39;00m \u001b[38;5;21msniff\u001b[39m(\u001b[38;5;241m*\u001b[39margs, \u001b[38;5;241m*\u001b[39m\u001b[38;5;241m*\u001b[39mkwargs):\n\u001b[1;32m   1309\u001b[0m     \u001b[38;5;66;03m# type: (*Any, **Any) -> PacketList\u001b[39;00m\n\u001b[1;32m   1310\u001b[0m     sniffer \u001b[38;5;241m=\u001b[39m AsyncSniffer()\n\u001b[0;32m-> 1311\u001b[0m     \u001b[43msniffer\u001b[49m\u001b[38;5;241;43m.\u001b[39;49m\u001b[43m_run\u001b[49m\u001b[43m(\u001b[49m\u001b[38;5;241;43m*\u001b[39;49m\u001b[43margs\u001b[49m\u001b[43m,\u001b[49m\u001b[43m \u001b[49m\u001b[38;5;241;43m*\u001b[39;49m\u001b[38;5;241;43m*\u001b[39;49m\u001b[43mkwargs\u001b[49m\u001b[43m)\u001b[49m\n\u001b[1;32m   1312\u001b[0m     \u001b[38;5;28;01mreturn\u001b[39;00m cast(PacketList, sniffer\u001b[38;5;241m.\u001b[39mresults)\n",
      "File \u001b[0;32m~/.cache/pypoetry/virtualenvs/waf-ml-Gfc2DYyB-py3.10/lib/python3.10/site-packages/scapy/sendrecv.py:1171\u001b[0m, in \u001b[0;36mAsyncSniffer._run\u001b[0;34m(self, count, store, offline, quiet, prn, lfilter, L2socket, timeout, opened_socket, stop_filter, iface, started_callback, session, session_kwargs, **karg)\u001b[0m\n\u001b[1;32m   1169\u001b[0m     \u001b[38;5;28;01melse\u001b[39;00m:\n\u001b[1;32m   1170\u001b[0m         iface \u001b[38;5;241m=\u001b[39m iface \u001b[38;5;129;01mor\u001b[39;00m conf\u001b[38;5;241m.\u001b[39miface\n\u001b[0;32m-> 1171\u001b[0m         sniff_sockets[\u001b[43m_RL2\u001b[49m\u001b[43m(\u001b[49m\u001b[43miface\u001b[49m\u001b[43m)\u001b[49m\u001b[43m(\u001b[49m\u001b[38;5;28;43mtype\u001b[39;49m\u001b[38;5;241;43m=\u001b[39;49m\u001b[43mETH_P_ALL\u001b[49m\u001b[43m,\u001b[49m\u001b[43m \u001b[49m\u001b[43miface\u001b[49m\u001b[38;5;241;43m=\u001b[39;49m\u001b[43miface\u001b[49m\u001b[43m,\u001b[49m\n\u001b[1;32m   1172\u001b[0m \u001b[43m                                  \u001b[49m\u001b[38;5;241;43m*\u001b[39;49m\u001b[38;5;241;43m*\u001b[39;49m\u001b[43mkarg\u001b[49m\u001b[43m)\u001b[49m] \u001b[38;5;241m=\u001b[39m iface\n\u001b[1;32m   1174\u001b[0m \u001b[38;5;66;03m# Get select information from the sockets\u001b[39;00m\n\u001b[1;32m   1175\u001b[0m _main_socket \u001b[38;5;241m=\u001b[39m \u001b[38;5;28mnext\u001b[39m(\u001b[38;5;28miter\u001b[39m(sniff_sockets))\n",
      "File \u001b[0;32m~/.cache/pypoetry/virtualenvs/waf-ml-Gfc2DYyB-py3.10/lib/python3.10/site-packages/scapy/arch/linux.py:484\u001b[0m, in \u001b[0;36mL2Socket.__init__\u001b[0;34m(self, iface, type, promisc, filter, nofilter, monitor)\u001b[0m\n\u001b[1;32m    482\u001b[0m \u001b[38;5;28mself\u001b[39m\u001b[38;5;241m.\u001b[39mtype \u001b[38;5;241m=\u001b[39m \u001b[38;5;28mtype\u001b[39m\n\u001b[1;32m    483\u001b[0m \u001b[38;5;28mself\u001b[39m\u001b[38;5;241m.\u001b[39mpromisc \u001b[38;5;241m=\u001b[39m conf\u001b[38;5;241m.\u001b[39msniff_promisc \u001b[38;5;28;01mif\u001b[39;00m promisc \u001b[38;5;129;01mis\u001b[39;00m \u001b[38;5;28;01mNone\u001b[39;00m \u001b[38;5;28;01melse\u001b[39;00m promisc\n\u001b[0;32m--> 484\u001b[0m \u001b[38;5;28mself\u001b[39m\u001b[38;5;241m.\u001b[39mins \u001b[38;5;241m=\u001b[39m \u001b[43msocket\u001b[49m\u001b[38;5;241;43m.\u001b[39;49m\u001b[43msocket\u001b[49m\u001b[43m(\u001b[49m\n\u001b[1;32m    485\u001b[0m \u001b[43m    \u001b[49m\u001b[43msocket\u001b[49m\u001b[38;5;241;43m.\u001b[39;49m\u001b[43mAF_PACKET\u001b[49m\u001b[43m,\u001b[49m\u001b[43m \u001b[49m\u001b[43msocket\u001b[49m\u001b[38;5;241;43m.\u001b[39;49m\u001b[43mSOCK_RAW\u001b[49m\u001b[43m,\u001b[49m\u001b[43m \u001b[49m\u001b[43msocket\u001b[49m\u001b[38;5;241;43m.\u001b[39;49m\u001b[43mhtons\u001b[49m\u001b[43m(\u001b[49m\u001b[38;5;28;43mtype\u001b[39;49m\u001b[43m)\u001b[49m\u001b[43m)\u001b[49m\n\u001b[1;32m    486\u001b[0m \u001b[38;5;28mself\u001b[39m\u001b[38;5;241m.\u001b[39mins\u001b[38;5;241m.\u001b[39msetsockopt(socket\u001b[38;5;241m.\u001b[39mSOL_SOCKET, socket\u001b[38;5;241m.\u001b[39mSO_RCVBUF, \u001b[38;5;241m0\u001b[39m)\n\u001b[1;32m    487\u001b[0m \u001b[38;5;28;01mif\u001b[39;00m \u001b[38;5;129;01mnot\u001b[39;00m nofilter:\n",
      "File \u001b[0;32m~/.pyenv/versions/3.10.12/lib/python3.10/socket.py:232\u001b[0m, in \u001b[0;36msocket.__init__\u001b[0;34m(self, family, type, proto, fileno)\u001b[0m\n\u001b[1;32m    230\u001b[0m     \u001b[38;5;28;01mif\u001b[39;00m proto \u001b[38;5;241m==\u001b[39m \u001b[38;5;241m-\u001b[39m\u001b[38;5;241m1\u001b[39m:\n\u001b[1;32m    231\u001b[0m         proto \u001b[38;5;241m=\u001b[39m \u001b[38;5;241m0\u001b[39m\n\u001b[0;32m--> 232\u001b[0m \u001b[43m_socket\u001b[49m\u001b[38;5;241;43m.\u001b[39;49m\u001b[43msocket\u001b[49m\u001b[38;5;241;43m.\u001b[39;49m\u001b[38;5;21;43m__init__\u001b[39;49m\u001b[43m(\u001b[49m\u001b[38;5;28;43mself\u001b[39;49m\u001b[43m,\u001b[49m\u001b[43m \u001b[49m\u001b[43mfamily\u001b[49m\u001b[43m,\u001b[49m\u001b[43m \u001b[49m\u001b[38;5;28;43mtype\u001b[39;49m\u001b[43m,\u001b[49m\u001b[43m \u001b[49m\u001b[43mproto\u001b[49m\u001b[43m,\u001b[49m\u001b[43m \u001b[49m\u001b[43mfileno\u001b[49m\u001b[43m)\u001b[49m\n\u001b[1;32m    233\u001b[0m \u001b[38;5;28mself\u001b[39m\u001b[38;5;241m.\u001b[39m_io_refs \u001b[38;5;241m=\u001b[39m \u001b[38;5;241m0\u001b[39m\n\u001b[1;32m    234\u001b[0m \u001b[38;5;28mself\u001b[39m\u001b[38;5;241m.\u001b[39m_closed \u001b[38;5;241m=\u001b[39m \u001b[38;5;28;01mFalse\u001b[39;00m\n",
      "\u001b[0;31mPermissionError\u001b[0m: [Errno 1] Operation not permitted"
     ]
    }
   ],
   "source": [
    "from scapy.layers.http import * # read the doc\n",
    "from scapy.sendrecv import sniff\n",
    "sniff(lfilter=lambda x: HTTP in x, prn=lambda x: x.summary())"
   ]
  },
  {
   "cell_type": "code",
   "execution_count": 13,
   "metadata": {},
   "outputs": [
    {
     "ename": "PermissionError",
     "evalue": "[Errno 1] Operation not permitted",
     "output_type": "error",
     "traceback": [
      "\u001b[0;31m---------------------------------------------------------------------------\u001b[0m",
      "\u001b[0;31mPermissionError\u001b[0m                           Traceback (most recent call last)",
      "Cell \u001b[0;32mIn[13], line 1\u001b[0m\n\u001b[0;32m----> 1\u001b[0m \u001b[43mstart\u001b[49m\u001b[43m(\u001b[49m\u001b[43m)\u001b[49m\n",
      "Cell \u001b[0;32mIn[12], line 21\u001b[0m, in \u001b[0;36mstart\u001b[0;34m(sniff_type)\u001b[0m\n\u001b[1;32m     19\u001b[0m \u001b[38;5;28;01mmatch\u001b[39;00m sniff_type:\n\u001b[1;32m     20\u001b[0m     \u001b[38;5;28;01mcase\u001b[39;00m \u001b[38;5;124m'\u001b[39m\u001b[38;5;124mL7\u001b[39m\u001b[38;5;124m'\u001b[39m:\n\u001b[0;32m---> 21\u001b[0m         \u001b[43msniff_http\u001b[49m\u001b[43m(\u001b[49m\u001b[43minterface\u001b[49m\u001b[43m)\u001b[49m\n\u001b[1;32m     22\u001b[0m     \u001b[38;5;28;01mcase\u001b[39;00m\u001b[38;5;250m \u001b[39m\u001b[38;5;28;01m_\u001b[39;00m:\n\u001b[1;32m     23\u001b[0m         sniff_raw_packets(interface)\n",
      "Cell \u001b[0;32mIn[12], line 14\u001b[0m, in \u001b[0;36msniff_http\u001b[0;34m(interface)\u001b[0m\n\u001b[1;32m     13\u001b[0m \u001b[38;5;28;01mdef\u001b[39;00m \u001b[38;5;21msniff_http\u001b[39m(interface):\n\u001b[0;32m---> 14\u001b[0m     \u001b[43msniff\u001b[49m\u001b[43m(\u001b[49m\u001b[43miface\u001b[49m\u001b[38;5;241;43m=\u001b[39;49m\u001b[43minterface\u001b[49m\u001b[43m,\u001b[49m\u001b[43m \u001b[49m\u001b[38;5;28;43mfilter\u001b[39;49m\u001b[38;5;241;43m=\u001b[39;49m\u001b[38;5;124;43m\"\u001b[39;49m\u001b[38;5;124;43mtcp port 80\u001b[39;49m\u001b[38;5;124;43m\"\u001b[39;49m\u001b[43m,\u001b[49m\u001b[43m \u001b[49m\u001b[43mprn\u001b[49m\u001b[38;5;241;43m=\u001b[39;49m\u001b[43msniff_http\u001b[49m\u001b[43m,\u001b[49m\u001b[43mstore\u001b[49m\u001b[38;5;241;43m=\u001b[39;49m\u001b[38;5;241;43m0\u001b[39;49m\u001b[43m)\u001b[49m\n",
      "File \u001b[0;32m~/.cache/pypoetry/virtualenvs/waf-ml-Gfc2DYyB-py3.10/lib/python3.10/site-packages/scapy/sendrecv.py:1311\u001b[0m, in \u001b[0;36msniff\u001b[0;34m(*args, **kwargs)\u001b[0m\n\u001b[1;32m   1307\u001b[0m \u001b[38;5;129m@conf\u001b[39m\u001b[38;5;241m.\u001b[39mcommands\u001b[38;5;241m.\u001b[39mregister\n\u001b[1;32m   1308\u001b[0m \u001b[38;5;28;01mdef\u001b[39;00m \u001b[38;5;21msniff\u001b[39m(\u001b[38;5;241m*\u001b[39margs, \u001b[38;5;241m*\u001b[39m\u001b[38;5;241m*\u001b[39mkwargs):\n\u001b[1;32m   1309\u001b[0m     \u001b[38;5;66;03m# type: (*Any, **Any) -> PacketList\u001b[39;00m\n\u001b[1;32m   1310\u001b[0m     sniffer \u001b[38;5;241m=\u001b[39m AsyncSniffer()\n\u001b[0;32m-> 1311\u001b[0m     \u001b[43msniffer\u001b[49m\u001b[38;5;241;43m.\u001b[39;49m\u001b[43m_run\u001b[49m\u001b[43m(\u001b[49m\u001b[38;5;241;43m*\u001b[39;49m\u001b[43margs\u001b[49m\u001b[43m,\u001b[49m\u001b[43m \u001b[49m\u001b[38;5;241;43m*\u001b[39;49m\u001b[38;5;241;43m*\u001b[39;49m\u001b[43mkwargs\u001b[49m\u001b[43m)\u001b[49m\n\u001b[1;32m   1312\u001b[0m     \u001b[38;5;28;01mreturn\u001b[39;00m cast(PacketList, sniffer\u001b[38;5;241m.\u001b[39mresults)\n",
      "File \u001b[0;32m~/.cache/pypoetry/virtualenvs/waf-ml-Gfc2DYyB-py3.10/lib/python3.10/site-packages/scapy/sendrecv.py:1171\u001b[0m, in \u001b[0;36mAsyncSniffer._run\u001b[0;34m(self, count, store, offline, quiet, prn, lfilter, L2socket, timeout, opened_socket, stop_filter, iface, started_callback, session, session_kwargs, **karg)\u001b[0m\n\u001b[1;32m   1169\u001b[0m     \u001b[38;5;28;01melse\u001b[39;00m:\n\u001b[1;32m   1170\u001b[0m         iface \u001b[38;5;241m=\u001b[39m iface \u001b[38;5;129;01mor\u001b[39;00m conf\u001b[38;5;241m.\u001b[39miface\n\u001b[0;32m-> 1171\u001b[0m         sniff_sockets[\u001b[43m_RL2\u001b[49m\u001b[43m(\u001b[49m\u001b[43miface\u001b[49m\u001b[43m)\u001b[49m\u001b[43m(\u001b[49m\u001b[38;5;28;43mtype\u001b[39;49m\u001b[38;5;241;43m=\u001b[39;49m\u001b[43mETH_P_ALL\u001b[49m\u001b[43m,\u001b[49m\u001b[43m \u001b[49m\u001b[43miface\u001b[49m\u001b[38;5;241;43m=\u001b[39;49m\u001b[43miface\u001b[49m\u001b[43m,\u001b[49m\n\u001b[1;32m   1172\u001b[0m \u001b[43m                                  \u001b[49m\u001b[38;5;241;43m*\u001b[39;49m\u001b[38;5;241;43m*\u001b[39;49m\u001b[43mkarg\u001b[49m\u001b[43m)\u001b[49m] \u001b[38;5;241m=\u001b[39m iface\n\u001b[1;32m   1174\u001b[0m \u001b[38;5;66;03m# Get select information from the sockets\u001b[39;00m\n\u001b[1;32m   1175\u001b[0m _main_socket \u001b[38;5;241m=\u001b[39m \u001b[38;5;28mnext\u001b[39m(\u001b[38;5;28miter\u001b[39m(sniff_sockets))\n",
      "File \u001b[0;32m~/.cache/pypoetry/virtualenvs/waf-ml-Gfc2DYyB-py3.10/lib/python3.10/site-packages/scapy/arch/linux.py:484\u001b[0m, in \u001b[0;36mL2Socket.__init__\u001b[0;34m(self, iface, type, promisc, filter, nofilter, monitor)\u001b[0m\n\u001b[1;32m    482\u001b[0m \u001b[38;5;28mself\u001b[39m\u001b[38;5;241m.\u001b[39mtype \u001b[38;5;241m=\u001b[39m \u001b[38;5;28mtype\u001b[39m\n\u001b[1;32m    483\u001b[0m \u001b[38;5;28mself\u001b[39m\u001b[38;5;241m.\u001b[39mpromisc \u001b[38;5;241m=\u001b[39m conf\u001b[38;5;241m.\u001b[39msniff_promisc \u001b[38;5;28;01mif\u001b[39;00m promisc \u001b[38;5;129;01mis\u001b[39;00m \u001b[38;5;28;01mNone\u001b[39;00m \u001b[38;5;28;01melse\u001b[39;00m promisc\n\u001b[0;32m--> 484\u001b[0m \u001b[38;5;28mself\u001b[39m\u001b[38;5;241m.\u001b[39mins \u001b[38;5;241m=\u001b[39m \u001b[43msocket\u001b[49m\u001b[38;5;241;43m.\u001b[39;49m\u001b[43msocket\u001b[49m\u001b[43m(\u001b[49m\n\u001b[1;32m    485\u001b[0m \u001b[43m    \u001b[49m\u001b[43msocket\u001b[49m\u001b[38;5;241;43m.\u001b[39;49m\u001b[43mAF_PACKET\u001b[49m\u001b[43m,\u001b[49m\u001b[43m \u001b[49m\u001b[43msocket\u001b[49m\u001b[38;5;241;43m.\u001b[39;49m\u001b[43mSOCK_RAW\u001b[49m\u001b[43m,\u001b[49m\u001b[43m \u001b[49m\u001b[43msocket\u001b[49m\u001b[38;5;241;43m.\u001b[39;49m\u001b[43mhtons\u001b[49m\u001b[43m(\u001b[49m\u001b[38;5;28;43mtype\u001b[39;49m\u001b[43m)\u001b[49m\u001b[43m)\u001b[49m\n\u001b[1;32m    486\u001b[0m \u001b[38;5;28mself\u001b[39m\u001b[38;5;241m.\u001b[39mins\u001b[38;5;241m.\u001b[39msetsockopt(socket\u001b[38;5;241m.\u001b[39mSOL_SOCKET, socket\u001b[38;5;241m.\u001b[39mSO_RCVBUF, \u001b[38;5;241m0\u001b[39m)\n\u001b[1;32m    487\u001b[0m \u001b[38;5;28;01mif\u001b[39;00m \u001b[38;5;129;01mnot\u001b[39;00m nofilter:\n",
      "File \u001b[0;32m~/.pyenv/versions/3.10.12/lib/python3.10/socket.py:232\u001b[0m, in \u001b[0;36msocket.__init__\u001b[0;34m(self, family, type, proto, fileno)\u001b[0m\n\u001b[1;32m    230\u001b[0m     \u001b[38;5;28;01mif\u001b[39;00m proto \u001b[38;5;241m==\u001b[39m \u001b[38;5;241m-\u001b[39m\u001b[38;5;241m1\u001b[39m:\n\u001b[1;32m    231\u001b[0m         proto \u001b[38;5;241m=\u001b[39m \u001b[38;5;241m0\u001b[39m\n\u001b[0;32m--> 232\u001b[0m \u001b[43m_socket\u001b[49m\u001b[38;5;241;43m.\u001b[39;49m\u001b[43msocket\u001b[49m\u001b[38;5;241;43m.\u001b[39;49m\u001b[38;5;21;43m__init__\u001b[39;49m\u001b[43m(\u001b[49m\u001b[38;5;28;43mself\u001b[39;49m\u001b[43m,\u001b[49m\u001b[43m \u001b[49m\u001b[43mfamily\u001b[49m\u001b[43m,\u001b[49m\u001b[43m \u001b[49m\u001b[38;5;28;43mtype\u001b[39;49m\u001b[43m,\u001b[49m\u001b[43m \u001b[49m\u001b[43mproto\u001b[49m\u001b[43m,\u001b[49m\u001b[43m \u001b[49m\u001b[43mfileno\u001b[49m\u001b[43m)\u001b[49m\n\u001b[1;32m    233\u001b[0m \u001b[38;5;28mself\u001b[39m\u001b[38;5;241m.\u001b[39m_io_refs \u001b[38;5;241m=\u001b[39m \u001b[38;5;241m0\u001b[39m\n\u001b[1;32m    234\u001b[0m \u001b[38;5;28mself\u001b[39m\u001b[38;5;241m.\u001b[39m_closed \u001b[38;5;241m=\u001b[39m \u001b[38;5;28;01mFalse\u001b[39;00m\n",
      "\u001b[0;31mPermissionError\u001b[0m: [Errno 1] Operation not permitted"
     ]
    }
   ],
   "source": [
    "start()"
   ]
  },
  {
   "cell_type": "code",
   "execution_count": null,
   "metadata": {},
   "outputs": [
    {
     "name": "stdout",
     "output_type": "stream",
     "text": [
      "2024-04-19 15:53:30 INFO     MITM server started on \u001b[1m127.0.0.1:8888\u001b[0m.\n",
      "2024-04-19 15:53:40 INFO     Client \u001b[1m127.0.0.1:37390\u001b[0m has connected.\n",
      "2024-04-19 15:53:40 INFO     Client 127.0.0.1:37390 to mitm: \n",
      "\n",
      "\tb'CONNECT httpbin.org:443 HTTP/1.0\\r\\n\\r\\n'\n",
      "\n"
     ]
    }
   ],
   "source": [
    "from mitm import MITM, protocol, middleware, crypto\n",
    "\n",
    "mitm = MITM(\n",
    "    host=\"127.0.0.1\",\n",
    "    port=8888,\n",
    "    protocols=[protocol.HTTP], \n",
    "    middlewares=[middleware.Log], # middleware.HTTPLog used for the example below.\n",
    "    certificate_authority = crypto.CertificateAuthority()\n",
    ")\n",
    "mitm.run()"
   ]
  },
  {
   "cell_type": "code",
   "execution_count": 5,
   "metadata": {},
   "outputs": [
    {
     "name": "stderr",
     "output_type": "stream",
     "text": [
      "/home/azhurin/.cache/pypoetry/virtualenvs/waf-ml-Gfc2DYyB-py3.10/lib/python3.10/site-packages/urllib3/connectionpool.py:1103: InsecureRequestWarning: Unverified HTTPS request is being made to host '127.0.0.1'. Adding certificate verification is strongly advised. See: https://urllib3.readthedocs.io/en/latest/advanced-usage.html#tls-warnings\n",
      "  warnings.warn(\n"
     ]
    },
    {
     "data": {
      "text/plain": [
       "<Response [200]>"
      ]
     },
     "execution_count": 5,
     "metadata": {},
     "output_type": "execute_result"
    }
   ],
   "source": [
    "import requests\n",
    "\n",
    "proxies = {\"http\": \"http://127.0.0.1:8888\", \"https\": \"http://127.0.0.1:8888\"}\n",
    "requests.get(\"https://httpbin.org/anything\", proxies=proxies, verify=False)"
   ]
  },
  {
   "cell_type": "code",
   "execution_count": 6,
   "metadata": {},
   "outputs": [
    {
     "name": "stderr",
     "output_type": "stream",
     "text": [
      "/home/azhurin/.cache/pypoetry/virtualenvs/waf-ml-Gfc2DYyB-py3.10/lib/python3.10/site-packages/urllib3/connectionpool.py:1103: InsecureRequestWarning: Unverified HTTPS request is being made to host '127.0.0.1'. Adding certificate verification is strongly advised. See: https://urllib3.readthedocs.io/en/latest/advanced-usage.html#tls-warnings\n",
      "  warnings.warn(\n"
     ]
    },
    {
     "data": {
      "text/plain": [
       "<Response [200]>"
      ]
     },
     "execution_count": 6,
     "metadata": {},
     "output_type": "execute_result"
    }
   ],
   "source": [
    "requests.get(\"https://docs.python.org/3/library/ssl.html\", proxies=proxies, verify=False)"
   ]
  },
  {
   "cell_type": "code",
   "execution_count": 6,
   "metadata": {},
   "outputs": [],
   "source": [
    "import codecs"
   ]
  },
  {
   "cell_type": "code",
   "execution_count": 7,
   "metadata": {},
   "outputs": [
    {
     "ename": "SyntaxError",
     "evalue": "(unicode error) 'unicodeescape' codec can't decode bytes in position 7522-7524: truncated \\xXX escape (4028147818.py, line 1)",
     "output_type": "error",
     "traceback": [
      "\u001b[0;36m  Cell \u001b[0;32mIn[7], line 1\u001b[0;36m\u001b[0m\n\u001b[0;31m    a = '\\x11\\xe3\\x944\\x8am\\xca\\x19\\x94S\\xdbPm&4\\xd0ehB\\xde?H\\xa6\\x87\\xf3H\\xda\\x04\\x05\\x9aXY\\xaaS`\\x1eR\\xc7\\x01\\' \\x85\\t\\x06\\x1e89\\xed\\x12\\xa6*\\x85\\x93\\x8a\\xde\\x1f\\xf0\\x01O\\x82\\x8a@\\x12;\\xa5\\xb6\\x14\\xdf\\xc7YQ*t%\\x0f(\\x7fR\\xe4\\x0e\\\\\\x0f\\xd54\\x8a\\xa4\\x81\\xa1\\xadV\\x9a\\x11A\\xe8\\xec\\xca9.\\x8b\\xb4\\x9d\\x1cO\\\\\\xb2\\xd9a\\x0f-$\\xa9n\\x84\\xf6-l\\xaa\\x18\\xef\\xe4\\x84ZV\\xec\\x8d\\x03f\\xf1\\x1c\\x7f\\x1cF\\x00f4e\\x05#o<\\xe7\\xe8\\rv\\x88\\x8f\\xdc[\\x97\\xbc\\xac\\xe4\\xded*\\xc7E>\\xfdf)\\xe9\\x983\\x9c\\x86\\x1c\\xd1\\x02\\x0bqq7\\xe8\\x0e-\\xbfn\\x13\\xe6\\x01n\\xb8\\xbci\\xc5\\x00\\xc2\\xecN\\x1a&\\xb0\\xe5\\xce\\x8a\\xa9\\x9f\\xb6\\xbb\\xb0,E\\xf7\\x88H\\xd0\\x0f\\xaa\\x82\\x06IX\\xcd<\\xcc\\xeaJ\\x85\\x84\\xa5]\\xe9\\x91\\xfd9-\\x9e(2WS!dYgq\\xcd\\xb2\\x92i\\xe9\\xdc(\\x0b\\xcd\\xa6}\\xad\\xa3\\x8c\\xc2\\xbf\\x87\\x1dg\\xe6\\x0c&n\\xa6\\x8dJ\\xa2yp\\xbb\\xeb\\x06\\xbb@\\xc1\\xf0\\xbf\\x1eU^\\'\\xa8\\x10\\xdd\\xd9\\xc5\\xb3\\xd0\\xa5H\\x1e\\xfb,\\x18D\\x0bJ\\xbe{\\x84\\xa5\\x12\\xcfE\\x8dvR\\xce\\x166\\x87\\xdeeYJNhT\\xfb\\xd3\\xcd\\xcd\\x95\\xddeB\\x91\\xd3\\xaf\\x15\\x97\\xa5B%q\\xa21n\\nr\\xb5\\x1el\\xf1\\xb7\\xf6\\xfe\\xeb\\x8c\\xa5\\xcd\\x000\\x1a\\xd8\\xcb\\x81\\x80\\x07\\x1dkD\\xde\\x02\\x85\\xf0\\xdcd$\\x01\\xb1\\x8b\\x0b\\xde\\x85>\\xf6_\\x1c\\x1c\\x88\\xd5\\xcb\\x98\\xa6\\xeb\\x8f\\xa76>F\\x8d\\x82w\\xe7\\x0c\\x16\\x00\\x88\\t\\xea\\x88\\xd3j\\xd9\\xe7\\x84Z\\xc0\\xdc\\x9d\\xa1\\xfa\\x19>\\xf2\\x06\\xf6\\x17`\\x16\\xe1\\x0b\\xbc^\\xcf\\xcf\\x8f\\xec\\xd3\\x8c\\xbe\\xb5\\xdf\\x93B\\xe2O@\\xd5\\xbe8\\x813\\xa6~\\xd2p\\xa9\"$\\xbb\\tz\\xa4\\xfe\\x89\\x9a\\xd4\\x02\\xd2\\x9b\\xcd\\x01\\xe9\\xc5\\xde\\x9bW\\x1a \\xe1\\xe3#\\xfb\\x9aDs\\xaat}]\\x0c\\xec\\x92ar\\xc6\\xd5~\\xc0Z\\xf7C\\xfb\\xac\\xd3\\xb2\\xff\\xbb;\\x1aE\\x00\\xa3s\\xe0\\xcf\\x07\\x13L5\\x11\\xd5\\x84\\xc0\\xdb\\xcdA\\xe0\\xe5\\xc1\\x9b=\\r\\x04\\xf0\\xf1Q\\x86\\x0e\\x7f\\xee\\xbc\\xdc{k_q\\xa9Q\\xdc\\xef\\xf3`\\x84\\x8e\\xde\\xe8B\\x8a\\x97\\xc8\\xa9z=\\xc2\\xbd\\xa1\\xfe~\\xed\\xde\\x85\\xe2~\\xfb\\x8c\\xba\\xdfg\\xa7\\xd7\\x9f\\x9f\\xa3N\\x0b\\xd3D\\x99\\xe1\\xd7\\xb1OC\\xd4|\\xd4\\x03\\xd5\\xc1\\xde&A\\xf5B\\x87,\\xf8\\xf8\\x88d\\x97\\x1b$\\x87T<\\xfe3z\\x1a\\xa5Hb?\\x03\\xdaCKf!O\\xd8\\x15\\xe1\\x12?0\\xae\\xff\\xa6c\\x7f\\xf0\\\\\\xac\\xe9\\x0e\\xa4\\x1d\\xee\\xc5NM8\\xeco\\x0e\\x0e\\xaf\\xf6^\\xe9\\xe0\\x80\\x8f\\x8f\\x96\\xc1\\xe0\\x0c\\x06\\r\\xd8\\xf5\\xa7b\\xe7\\xcf\\x00\\xb5|\\xe0\\xc7\\x1epI\\xa0\\xc5\\xc2\\x03\\xa2D\\xb3\\x87o\\x80\\xdf\\xa1\\xd3\\xbb\\x8b:\\x814\\xa1r\\xf1\\xd7\\xce7\\\\\\xd5\\xf9\\xc9\\xc5\\t\\xb2NKWs\\x95~X\\xba6\\xa0\\x8b\\x9a;v\\xb0\\xb9\\x1d{\\xfd\\xf2\\xe0\\xa5f\\xc7\\xf01\\x909\\xe9\\x90$\\x14\\x88)ys\\xed\\xaf\\x9cAz\\t\\x14\\xf0\\xc0\\x7f\\x80)\\x8c\\x01\\x18\\x15m?`c\\xe3\\xae\\x9f\\x9f\\xdd||\\xc8v{\\xb7^g\\x1a\\xfe\\x15\\xa8+o\\xb9\\x1cw\\x97o\\xe9^\\x17\\x84\\x044$\\xef\\x1c\\x7f\\xe1V\\xa4\\x86\\x15W8\\xbe$^9\\xca\\xc3\\xa28I\\xf1\\xa9:O\\n\\xc5N\\xad\\xfb:\\r\\x97e\\xd9\\xca\\x1f\\x95E\\x1e\\xf8\\xc0\\xb4S\\x114\\xfe^i\\x95\\x7f\\x90\\xfb5\\xff\\x8b\\xd2]<\\x9bx\\xc17\\x94\\x86\\xfaN\\xb4cG!\\xb2~\\x81s\\xe7\\x8d\\x1d\\xb6$c\\xf1\\xf3\\xb6\\xef\\xf4]\\x1f\\xc3<\\xbc\\xc0V^*\\x83\\x99\\xba\\xc4\\xe4\\xa33\\x9c\\xae\\xc5\\x8d\\xf8\\x134\\xe5\\xc0N\\xf1vt:\\xbbd)\\x87\\x83&\\xf0\\xed\\x86\\x95\\x1c#\\xfbT<\\xcf\\x0c3\\xf45\\x89\\r(\\xd7\\xac\"\\xb3\\xae\\x99A\\xcd|B\\x84\\xa1\\xeb\\xef\\x7f\\xfb\\xdfR\\x97f\\x8b\\xd5\\xd2q\\x10E\\tD\\xddnZA\\xady\\xcbP\\xe7\\x98=!\\x1c\\x00C\\x1bNM;\\xad\\x01\\x11\\xef\\x1c\\x7f\\x94mZ\\x08*n\\xc4B\\xd8Y\\xda\\xaa\\xfe\\xc8<\\xf36y\\x97\\xd06\\xb3\\x02\\xc1\\x96\\x0fx7R\\xe1r\\x95.\\x85+\\x84\\xd2\\xe7\\xa9\\xea\\xc3\\xd2\\xacS\\x15\\x12\\x85\\xf5\\xd6\\xeb\\x88\\xed)maH\\xa1\\xe91\\x1fgg\\x8f\\x9a,Z\\xe1ze\\xc9\\x13X\\xb8\\xc2\\xe6\\xc8\\xa7\\xcd \\xca\\xfbM\\xa0\\xe4\\x1f\\x95nX\\xb4\\xae\\xd7%\\xe5w\\xa0\\xad\\x8eI\\xfa\\xb1y\\xdf\\x9b@\\x14\\xbb\\x12{.\\xfa\\x12\\xfb\\xdd\\xa4\\xb3|(\\xd7\\xa9\\x1a\\xbbU\\x1b\\xb7\\xd5=\\xa1\\xf0\\xc4|\\x8f6?k2I\\xa7\\x10rV\\xc80\\xd0h\\x8b\\xa7}\\x0c6i\\xdf\\xba\\x0b:\\xfaJ\\x7f\\xb8\\xeb\\xfc\\xd6\\x86\\xb7\\x9c[ {\\xdbd\\xc7\\\\\\x7f\\xd4F\\x8e\\xc7\\x1d\\x16\\x16\\xd2\\xcd\\xde\\x98V\\xd4\\x04\\xdb\\x84U\\x9c\\xce.\\xffT\\x7f7a\\x16\\xe8N\\xd3\\x06z\\xdb&\\xeceM\\x13\\xdc \\xfc\\x82\\xf9\\x12\\xf4>\\xe2\\x17M6!\\xd3\\x17\\xb6Q\\xb4\\x90\\xe4KQ#\\xa6\\x8f\\x1b\\x81\\x1d\\x99\\x89R\\xf7\\xdd\\xec\\xb1\\xb6\\xfb&\\x00\\xa7z\\x1f\\xed0h\\xabE\\x1f\\xb2\\x03\\x7fA\\xe5@(\\x84#{-n\\xb1&\\xd8\\xcb9\\x15\\xdb}/\\xcc\\xb6\\xe5K\\x96\\x08\\xb8\\xdbxGr\\xb9\\xf6\\xd44{M\\xa0o\\xc8zc\\xcahS\\x1bC\\x0byi\\xf2)i\\x1a\\x00\\xb5\\x18h[\\x8c\\xb1\\xad=AS\\xc4\\xac!X\\xb6\\xfe\\x945q\\x1d\\xe5\\x90\\x8e\\x06\\xe7\\xb2\\xe47Yr\\x99|\\xd8q){ \\x95\\x9c\\x8f\\x1e6@j\\xb8\\x96Vi}w\\xf4\\xb3\\xa5\\xb0\\xf0*\\x1b\\x8d\\xe11\\xc2\\xb4\\x9b\\x843o\\xc0N\\x9d\\xf4.\\xd5\\x9a\\xc3\\x0b \\xaeh\\xa9\\x93\\x1c\\xb7\\xa2\\xfc\\xdd\\xc9\\t\\x1a\\xf9?B\\x11\\x9c\\x1a\\x8f\\xe1n\\x9c%\\x95\\xf5\\x97\\xd7\\xa4\\xf1%\\x9e\\xbaZ\\xef,\\xebN\\x9a\\x01s\\x81\\xdce\\x1d\\xa0\\x10\\xde\\xac\\n\\x94\\x80x\\xd7\\x8d\\x00\\x84\\xe6\\xa1\\x01\\xc8\\xcf\\x8e\\x97\\xdei\\xe7\\xbb\\x97d\\xf2\\xf2\\xdd\\x0c\\xd3\\xcb\\xc0\\x90\\xe2\\\\\\x88IfUA.\\x0e\\xe7\\x11\\xa0$\\xf9=d\\x12\\x19\\x05_^9c7\\'j\\xa5\\x10\\x83\\xb7\\xed\\x19\\xbcm\\x83\\xac;Oe?\\x81\\xee\\xa9(\\xd7\\x9f\\x8f\\xa5\\x18wMe\\xf7l\\xc7~?W\\xceJ\\xf6Y&=\\xca\\xef\\xa5d>\\xf6\\x92\\xc9\\xbc\\x8f%\\xa3w9\\xc8ew \\xfe\\x86\\x8b\\xa9\\xbf\\x8br\\xe8\\xee\\x87p\\x00\\xfd\\xf5#\\'Z\\xa0\\xea\\xbe\\x13\\xc5I~\\xdf\"\\\\i\\x10r\\xb9N \\xe9\\x98N\\xa9K\\x0bWdd\\'\\x93\\x90\\xe5\\x8c\\xf8\\xc4\\x99\\xe4i\\x82+\\xf9\\x98\\xb0\\x80\\xdb\\x9f\\'\\x89b\\n=\\x85\\xd1\\x9cY\\xec\\xdaR\\xa4\\x16n)\\xc7\\xff\\xef\\xfff\\xce\\xfd\\xd4\\xd12\\xc9\\\\\\'\\xe8\\xf3\\x8f\\xb6m\\x15\\x1b\\x8b*^\\xcb\\x04xY\\xecK#\\xc3#\\x02\\\\\\xa4\\x8f3\\x0c\\x10\\xe2v\\n\\x05\\xdfK\\xc7\\xa4\\xc8\";N\\x16\\xe4\\x80\\xe8Dc/h\\xd3\\xc3#{\\x7fo\\xf6m\\'\\xa7\\x9cPP\\x04\\x84*R_1\\x9aH\\xc8\\xfdH\\xa2\\x96o\\x9f\\xe3\\xab\\xc2\\t<\\xa6\\xf6E\\x1c\\xd2\\xcd\\xc64&\\x1fF\\xcd\\xb0\\xc2\\t\\xfb\\x0b\\xfbwj\\x07\\x17\\xbeyd\\x87\\xfa\\xd7F\\x13PiKj_\\xa3gKNvq*\\x01E\\xc14\\x9f\\x87B\\xf8\\xf3v\\xbe\\x15Hnq.\\xf2^P\\xe7\\xa3\\x0e\\x8a\\x84\\xc1\\x9b\\x02\\x0b\\x19\\rh\\x0bz\\xe8P\\xe8\\r`+:\\xf1\\xdd\\x18\\x10\\xd3OR\\xf0\\xfb\\xe18LQ\\xe9\\x0e\\x19\\x8e\\x01\\xb09\\x8e\\x0fR\\xc7\\x91=\\xf5\\x86C\\xdf}g\\x0b\\x14\\x03\\xd2}d\\xb7\\xf7\\x01\\xc1v\\x0b\\xe8P\\xa0F\\xaaZ7K3\\xb5\\x0b\\xfc\\x07\\xfdB\\xf3\\xfe\\xc3?\\xec\\xbfy\\xfdN\\xd3M\\xaa\\xcd\\xba\\xf70\\x08\\x1e=]\\x8c:9\\xdf\\t\\xc6s\\xa0\\x8c=\\xd9\\xb87\\xf3\\x01`\\x93\\xd0\\x1fj5u\\xf9\\xaf\\x05\\x13\\xb4\\xea\\xc7\\xba%\\x17\\xee+mk\\\\\\x13\\x05\\x9c0(\\xdar\\xd2$Y\\xa65\\xa3\\xe5\\x99W\\x8e\\x8erh\\x8e\\x0f;\\xfb\\x07\\x9dC\\xfbC\\xde|\\x99\\xc2\\xd1\\xca\\x86\\xd4C\\x13\\x08O\\x1b\\xae\\xc1\\xa9-\\x7fh\\xef+W\\xb0z<\\xc9\\xd5M`G7\\x819:\\xd1\\xd0\\xfe\\xcc\\xf4~\\xb5\\x9d+\\x8fu\\xa0\\x8e5\\x1b\\xc8\\x91.2dG9\\x9a\\x0cX\\xd23\\xe34-:\\xe5U`L\\xe5\\xa8xq*\\x03o\\x91>r\\xb7\\x8c:\\x1aRRnB8V\\xba\\x83\\xbc\\xc0\\xc7\\xe8\\xa0\\x18\\xae\\xad\\xc1D\\xdeD\\xe27\\x05TT\\x07[\\xff\\x89C|;!\\x1d?\\x12;\\xc4\\xfe}?\\xec\\x8c\\xdd\\xfcl\\xfe\\xe8\\x05\\xb3yb+\\xe7\\xe5\\x87\\x9d\\x7f\\x9c{\\x83[;\\xedQ\\xb9\\xfc\\xf2o\\x92\\xc5,\\x9b\\x9e\\x8d\\x91^?\\xec\\xfc*2\\xc1\\xd2\\xc3v?\\xfc\\xb6c\\xefj\\xc6\\x13\\x9f\\xce\\xfbS\\x0f\\x08-\\x95\\x81\\x80\\xeb+\\xcc5\\xfe\\xe3.\\xaeS\\xbd\\xb5\\xf5<\\xe5\\xbf\\x96\\xe1_\\xda\\x15\\xcd\\x8e\\xfc\\x91\\xd6\\x94\\xb1f\\xee\\xd4\\x15\\xa2P\\x18\\xf1z\\x05\\xa0n\\xf0\\x15\\xcfB\\\\8\\xdaov@\\xf0\\xa7\\xc5\\xfd\\xb0\\x83\\x9bp\\x07\\xd8F_>C\\xe4\\xed\\xd0\\x12\\x9f\\xab\\x9b\\x18\\x92\\xaeU\\xae\\x1d\\x13t\\xec\\x08\\xc1\\xcb\\x1d\\x1e\\x9f\\xc0\\xaf\\x7f\\xdc\\xe5&\\xc6oD\\\\\\xf2g\\xfckic8\\xfc\\xc0\\xa8~\\x80\\xff\\xe7\\x9b\\xa2\\xc5\\x04\\x07%a\\tW]\\xba\\x18\\tU%`%#cd\\xa3Fa\\x98\\x08c\\x85m\\xffa\\x10\\xce\\x16\\xefl\\rE\\xc4\\x17\\xb4\\x13\\x82*Z\\xe9(\\xa7\\xf2\\x8d\\x95\\x1bXr\\x99\\x07{{\\xfb\\xed\\x83\\xbd\\x83\\x17\\xad\\x94\\xb4\\x85\\xa3\\x84\\xbc\\xfd?\\x86saA\\xea\\xf0\\xb4\\xfa\\x91\\xc4\\'\\xe2\\xcb\\x91\\xf3\\xc6\\xe09\\xdf\\x1b\\xb8\\x01zP\\x90\\xc3\\x0f{\\xeb\\x1b\\xbb\\x02\\x82I\\xadS\\xeb\\xf1A\\xa9s\\xa9|k\\xa1\\x1d\\xcb\\x9b\\xb9\\xc2~@\\xe9\\x8el\"T\\xa2XB\\xcee\\x85\\xbd\\xe5\\x86\\\\\\x8a\\x9b\\xd2\\xb2h\\xe6\\xf5?\\xdc(\\xb4O}\\x07\\x83\\x04\\xdew?\\xc8\\xc9\\x94\\xa6 \\xc0\\x84\\xbe\\\\)\\x94wE\\x7f\\x02\\xc2\\x9f\\xbc8A\\xcd\\x11NMt\\xc3\\xf9`1\\x07MH5\\xc09<\\x0c\\xe1W\\xecZ\\x1dO\\x1e\\x8a*\\xa0a\\xca\\x19\\xd2\\x82\\xcd\\xd0\\xdf\\x00}\\x0b#\\x10d\\xc4\\xde,\\xe3.f\\xf1hw\\x080!}\\x11\\xf2\\x1a\\x9cy\\x8d\\x1e\\xa1\\xef4\\xa0\\x822?\\xe5G\\xdb\\xfe\\xec\\xc4\\x89=\\x9f\\r\\x89E\\x87y\\x9c\\xcc\"{\\xffM\\xcbF\\x84\\xb1\\x9f\\x1d\\xec\\x1d\\xbd\\xd8\\xb3\\xbf\\xde\\x9c>\\xef\\xe4\\x90+\\x85\\x98\"y\\xd1b`\\x11}\\x16\\xbc\\xfe\\xab\\x1e\\x0c\\xa7\"|\\x98#a\\xb4\\x0bc[^\\x1b\\xf6^\\xb0N]z@\\xb0\\x7f\\xdd9\\xe8\\xbc\\xea\\xa8\\x14N\\xd0\\x99A\\xe4\\xcd$\\x95D\\x9d\\xff\\xee_\\x9c;\\x87\\x9f\\xee\\x94\\xb8\\xc1\\x94\\xbf\\xea\\xfc%&c6\\xb5c\\xf9\\xab\\x1f\\x0e\\x17x\\xb4qQ\\xc7\\xff\\x1f\\x8c\\x18K\\x06j\\xec\\x04\\x0'\u001b[0m\n\u001b[0m                                                                                                                                                                                                                                                                                                                                                                                                                                                                                                                                                                                                                                                                                                                                                                                                                                                                                                                                                                                                                                                                                                                                                                                                                                                                                                                                                                                                                                                                                                                                                                                                                                                                                                                                                                                                                                                                                                                                                                                                                                                                                                                                                                                                                                                                                                                                                                                                                                                                                                                                                                                                                                                                                                                                                                                                                                                                                                                                                                                                                                                                                                                                                                                                                                                                                                                                                                                                                                                                                                                                                                                                                                                                                                                                                                                                                                                                                                                                                                                                                                                                                                                                                                                                                                                                                                                                                                                                                                                                                                                                                                                                                                                                                                                                                                                                                                                                                                                                                                                                                                                                                                                                                                                                                                                                                                                                                                                                                                                                                                                                                                                                                                                                                                                                                                                                                                                                                                                                                                                                                                                                                                                                                                                                                                                                                                                                                                                                                                                                                                                                                                                                                                                                                                                                                                                                                                                                                                                                                                                                                                                                                                                                                                                                                                                                                                                                                                                                                                                                                                                                                                                                                                                                                                                                                                                                                                               ^\u001b[0m\n\u001b[0;31mSyntaxError\u001b[0m\u001b[0;31m:\u001b[0m (unicode error) 'unicodeescape' codec can't decode bytes in position 7522-7524: truncated \\xXX escape\n"
     ]
    }
   ],
   "source": [
    "a = '\\x11\\xe3\\x944\\x8am\\xca\\x19\\x94S\\xdbPm&4\\xd0ehB\\xde?H\\xa6\\x87\\xf3H\\xda\\x04\\x05\\x9aXY\\xaaS`\\x1eR\\xc7\\x01\\' \\x85\\t\\x06\\x1e89\\xed\\x12\\xa6*\\x85\\x93\\x8a\\xde\\x1f\\xf0\\x01O\\x82\\x8a@\\x12;\\xa5\\xb6\\x14\\xdf\\xc7YQ*t%\\x0f(\\x7fR\\xe4\\x0e\\\\\\x0f\\xd54\\x8a\\xa4\\x81\\xa1\\xadV\\x9a\\x11A\\xe8\\xec\\xca9.\\x8b\\xb4\\x9d\\x1cO\\\\\\xb2\\xd9a\\x0f-$\\xa9n\\x84\\xf6-l\\xaa\\x18\\xef\\xe4\\x84ZV\\xec\\x8d\\x03f\\xf1\\x1c\\x7f\\x1cF\\x00f4e\\x05#o<\\xe7\\xe8\\rv\\x88\\x8f\\xdc[\\x97\\xbc\\xac\\xe4\\xded*\\xc7E>\\xfdf)\\xe9\\x983\\x9c\\x86\\x1c\\xd1\\x02\\x0bqq7\\xe8\\x0e-\\xbfn\\x13\\xe6\\x01n\\xb8\\xbci\\xc5\\x00\\xc2\\xecN\\x1a&\\xb0\\xe5\\xce\\x8a\\xa9\\x9f\\xb6\\xbb\\xb0,E\\xf7\\x88H\\xd0\\x0f\\xaa\\x82\\x06IX\\xcd<\\xcc\\xeaJ\\x85\\x84\\xa5]\\xe9\\x91\\xfd9-\\x9e(2WS!dYgq\\xcd\\xb2\\x92i\\xe9\\xdc(\\x0b\\xcd\\xa6}\\xad\\xa3\\x8c\\xc2\\xbf\\x87\\x1dg\\xe6\\x0c&n\\xa6\\x8dJ\\xa2yp\\xbb\\xeb\\x06\\xbb@\\xc1\\xf0\\xbf\\x1eU^\\'\\xa8\\x10\\xdd\\xd9\\xc5\\xb3\\xd0\\xa5H\\x1e\\xfb,\\x18D\\x0bJ\\xbe{\\x84\\xa5\\x12\\xcfE\\x8dvR\\xce\\x166\\x87\\xdeeYJNhT\\xfb\\xd3\\xcd\\xcd\\x95\\xddeB\\x91\\xd3\\xaf\\x15\\x97\\xa5B%q\\xa21n\\nr\\xb5\\x1el\\xf1\\xb7\\xf6\\xfe\\xeb\\x8c\\xa5\\xcd\\x000\\x1a\\xd8\\xcb\\x81\\x80\\x07\\x1dkD\\xde\\x02\\x85\\xf0\\xdcd$\\x01\\xb1\\x8b\\x0b\\xde\\x85>\\xf6_\\x1c\\x1c\\x88\\xd5\\xcb\\x98\\xa6\\xeb\\x8f\\xa76>F\\x8d\\x82w\\xe7\\x0c\\x16\\x00\\x88\\t\\xea\\x88\\xd3j\\xd9\\xe7\\x84Z\\xc0\\xdc\\x9d\\xa1\\xfa\\x19>\\xf2\\x06\\xf6\\x17`\\x16\\xe1\\x0b\\xbc^\\xcf\\xcf\\x8f\\xec\\xd3\\x8c\\xbe\\xb5\\xdf\\x93B\\xe2O@\\xd5\\xbe8\\x813\\xa6~\\xd2p\\xa9\"$\\xbb\\tz\\xa4\\xfe\\x89\\x9a\\xd4\\x02\\xd2\\x9b\\xcd\\x01\\xe9\\xc5\\xde\\x9bW\\x1a \\xe1\\xe3#\\xfb\\x9aDs\\xaat}]\\x0c\\xec\\x92ar\\xc6\\xd5~\\xc0Z\\xf7C\\xfb\\xac\\xd3\\xb2\\xff\\xbb;\\x1aE\\x00\\xa3s\\xe0\\xcf\\x07\\x13L5\\x11\\xd5\\x84\\xc0\\xdb\\xcdA\\xe0\\xe5\\xc1\\x9b=\\r\\x04\\xf0\\xf1Q\\x86\\x0e\\x7f\\xee\\xbc\\xdc{k_q\\xa9Q\\xdc\\xef\\xf3`\\x84\\x8e\\xde\\xe8B\\x8a\\x97\\xc8\\xa9z=\\xc2\\xbd\\xa1\\xfe~\\xed\\xde\\x85\\xe2~\\xfb\\x8c\\xba\\xdfg\\xa7\\xd7\\x9f\\x9f\\xa3N\\x0b\\xd3D\\x99\\xe1\\xd7\\xb1OC\\xd4|\\xd4\\x03\\xd5\\xc1\\xde&A\\xf5B\\x87,\\xf8\\xf8\\x88d\\x97\\x1b$\\x87T<\\xfe3z\\x1a\\xa5Hb?\\x03\\xdaCKf!O\\xd8\\x15\\xe1\\x12?0\\xae\\xff\\xa6c\\x7f\\xf0\\\\\\xac\\xe9\\x0e\\xa4\\x1d\\xee\\xc5NM8\\xeco\\x0e\\x0e\\xaf\\xf6^\\xe9\\xe0\\x80\\x8f\\x8f\\x96\\xc1\\xe0\\x0c\\x06\\r\\xd8\\xf5\\xa7b\\xe7\\xcf\\x00\\xb5|\\xe0\\xc7\\x1epI\\xa0\\xc5\\xc2\\x03\\xa2D\\xb3\\x87o\\x80\\xdf\\xa1\\xd3\\xbb\\x8b:\\x814\\xa1r\\xf1\\xd7\\xce7\\\\\\xd5\\xf9\\xc9\\xc5\\t\\xb2NKWs\\x95~X\\xba6\\xa0\\x8b\\x9a;v\\xb0\\xb9\\x1d{\\xfd\\xf2\\xe0\\xa5f\\xc7\\xf01\\x909\\xe9\\x90$\\x14\\x88)ys\\xed\\xaf\\x9cAz\\t\\x14\\xf0\\xc0\\x7f\\x80)\\x8c\\x01\\x18\\x15m?`c\\xe3\\xae\\x9f\\x9f\\xdd||\\xc8v{\\xb7^g\\x1a\\xfe\\x15\\xa8+o\\xb9\\x1cw\\x97o\\xe9^\\x17\\x84\\x044$\\xef\\x1c\\x7f\\xe1V\\xa4\\x86\\x15W8\\xbe$^9\\xca\\xc3\\xa28I\\xf1\\xa9:O\\n\\xc5N\\xad\\xfb:\\r\\x97e\\xd9\\xca\\x1f\\x95E\\x1e\\xf8\\xc0\\xb4S\\x114\\xfe^i\\x95\\x7f\\x90\\xfb5\\xff\\x8b\\xd2]<\\x9bx\\xc17\\x94\\x86\\xfaN\\xb4cG!\\xb2~\\x81s\\xe7\\x8d\\x1d\\xb6$c\\xf1\\xf3\\xb6\\xef\\xf4]\\x1f\\xc3<\\xbc\\xc0V^*\\x83\\x99\\xba\\xc4\\xe4\\xa33\\x9c\\xae\\xc5\\x8d\\xf8\\x134\\xe5\\xc0N\\xf1vt:\\xbbd)\\x87\\x83&\\xf0\\xed\\x86\\x95\\x1c#\\xfbT<\\xcf\\x0c3\\xf45\\x89\\r(\\xd7\\xac\"\\xb3\\xae\\x99A\\xcd|B\\x84\\xa1\\xeb\\xef\\x7f\\xfb\\xdfR\\x97f\\x8b\\xd5\\xd2q\\x10E\\tD\\xddnZA\\xady\\xcbP\\xe7\\x98=!\\x1c\\x00C\\x1bNM;\\xad\\x01\\x11\\xef\\x1c\\x7f\\x94mZ\\x08*n\\xc4B\\xd8Y\\xda\\xaa\\xfe\\xc8<\\xf36y\\x97\\xd06\\xb3\\x02\\xc1\\x96\\x0fx7R\\xe1r\\x95.\\x85+\\x84\\xd2\\xe7\\xa9\\xea\\xc3\\xd2\\xacS\\x15\\x12\\x85\\xf5\\xd6\\xeb\\x88\\xed)maH\\xa1\\xe91\\x1fgg\\x8f\\x9a,Z\\xe1ze\\xc9\\x13X\\xb8\\xc2\\xe6\\xc8\\xa7\\xcd \\xca\\xfbM\\xa0\\xe4\\x1f\\x95nX\\xb4\\xae\\xd7%\\xe5w\\xa0\\xad\\x8eI\\xfa\\xb1y\\xdf\\x9b@\\x14\\xbb\\x12{.\\xfa\\x12\\xfb\\xdd\\xa4\\xb3|(\\xd7\\xa9\\x1a\\xbbU\\x1b\\xb7\\xd5=\\xa1\\xf0\\xc4|\\x8f6?k2I\\xa7\\x10rV\\xc80\\xd0h\\x8b\\xa7}\\x0c6i\\xdf\\xba\\x0b:\\xfaJ\\x7f\\xb8\\xeb\\xfc\\xd6\\x86\\xb7\\x9c[ {\\xdbd\\xc7\\\\\\x7f\\xd4F\\x8e\\xc7\\x1d\\x16\\x16\\xd2\\xcd\\xde\\x98V\\xd4\\x04\\xdb\\x84U\\x9c\\xce.\\xffT\\x7f7a\\x16\\xe8N\\xd3\\x06z\\xdb&\\xeceM\\x13\\xdc \\xfc\\x82\\xf9\\x12\\xf4>\\xe2\\x17M6!\\xd3\\x17\\xb6Q\\xb4\\x90\\xe4KQ#\\xa6\\x8f\\x1b\\x81\\x1d\\x99\\x89R\\xf7\\xdd\\xec\\xb1\\xb6\\xfb&\\x00\\xa7z\\x1f\\xed0h\\xabE\\x1f\\xb2\\x03\\x7fA\\xe5@(\\x84#{-n\\xb1&\\xd8\\xcb9\\x15\\xdb}/\\xcc\\xb6\\xe5K\\x96\\x08\\xb8\\xdbxGr\\xb9\\xf6\\xd44{M\\xa0o\\xc8zc\\xcahS\\x1bC\\x0byi\\xf2)i\\x1a\\x00\\xb5\\x18h[\\x8c\\xb1\\xad=AS\\xc4\\xac!X\\xb6\\xfe\\x945q\\x1d\\xe5\\x90\\x8e\\x06\\xe7\\xb2\\xe47Yr\\x99|\\xd8q){ \\x95\\x9c\\x8f\\x1e6@j\\xb8\\x96Vi}w\\xf4\\xb3\\xa5\\xb0\\xf0*\\x1b\\x8d\\xe11\\xc2\\xb4\\x9b\\x843o\\xc0N\\x9d\\xf4.\\xd5\\x9a\\xc3\\x0b \\xaeh\\xa9\\x93\\x1c\\xb7\\xa2\\xfc\\xdd\\xc9\\t\\x1a\\xf9?B\\x11\\x9c\\x1a\\x8f\\xe1n\\x9c%\\x95\\xf5\\x97\\xd7\\xa4\\xf1%\\x9e\\xbaZ\\xef,\\xebN\\x9a\\x01s\\x81\\xdce\\x1d\\xa0\\x10\\xde\\xac\\n\\x94\\x80x\\xd7\\x8d\\x00\\x84\\xe6\\xa1\\x01\\xc8\\xcf\\x8e\\x97\\xdei\\xe7\\xbb\\x97d\\xf2\\xf2\\xdd\\x0c\\xd3\\xcb\\xc0\\x90\\xe2\\\\\\x88IfUA.\\x0e\\xe7\\x11\\xa0$\\xf9=d\\x12\\x19\\x05_^9c7\\'j\\xa5\\x10\\x83\\xb7\\xed\\x19\\xbcm\\x83\\xac;Oe?\\x81\\xee\\xa9(\\xd7\\x9f\\x8f\\xa5\\x18wMe\\xf7l\\xc7~?W\\xceJ\\xf6Y&=\\xca\\xef\\xa5d>\\xf6\\x92\\xc9\\xbc\\x8f%\\xa3w9\\xc8ew \\xfe\\x86\\x8b\\xa9\\xbf\\x8br\\xe8\\xee\\x87p\\x00\\xfd\\xf5#\\'Z\\xa0\\xea\\xbe\\x13\\xc5I~\\xdf\"\\\\i\\x10r\\xb9N \\xe9\\x98N\\xa9K\\x0bWdd\\'\\x93\\x90\\xe5\\x8c\\xf8\\xc4\\x99\\xe4i\\x82+\\xf9\\x98\\xb0\\x80\\xdb\\x9f\\'\\x89b\\n=\\x85\\xd1\\x9cY\\xec\\xdaR\\xa4\\x16n)\\xc7\\xff\\xef\\xfff\\xce\\xfd\\xd4\\xd12\\xc9\\\\\\'\\xe8\\xf3\\x8f\\xb6m\\x15\\x1b\\x8b*^\\xcb\\x04xY\\xecK#\\xc3#\\x02\\\\\\xa4\\x8f3\\x0c\\x10\\xe2v\\n\\x05\\xdfK\\xc7\\xa4\\xc8\";N\\x16\\xe4\\x80\\xe8Dc/h\\xd3\\xc3#{\\x7fo\\xf6m\\'\\xa7\\x9cPP\\x04\\x84*R_1\\x9aH\\xc8\\xfdH\\xa2\\x96o\\x9f\\xe3\\xab\\xc2\\t<\\xa6\\xf6E\\x1c\\xd2\\xcd\\xc64&\\x1fF\\xcd\\xb0\\xc2\\t\\xfb\\x0b\\xfbwj\\x07\\x17\\xbeyd\\x87\\xfa\\xd7F\\x13PiKj_\\xa3gKNvq*\\x01E\\xc14\\x9f\\x87B\\xf8\\xf3v\\xbe\\x15Hnq.\\xf2^P\\xe7\\xa3\\x0e\\x8a\\x84\\xc1\\x9b\\x02\\x0b\\x19\\rh\\x0bz\\xe8P\\xe8\\r`+:\\xf1\\xdd\\x18\\x10\\xd3OR\\xf0\\xfb\\xe18LQ\\xe9\\x0e\\x19\\x8e\\x01\\xb09\\x8e\\x0fR\\xc7\\x91=\\xf5\\x86C\\xdf}g\\x0b\\x14\\x03\\xd2}d\\xb7\\xf7\\x01\\xc1v\\x0b\\xe8P\\xa0F\\xaaZ7K3\\xb5\\x0b\\xfc\\x07\\xfdB\\xf3\\xfe\\xc3?\\xec\\xbfy\\xfdN\\xd3M\\xaa\\xcd\\xba\\xf70\\x08\\x1e=]\\x8c:9\\xdf\\t\\xc6s\\xa0\\x8c=\\xd9\\xb87\\xf3\\x01`\\x93\\xd0\\x1fj5u\\xf9\\xaf\\x05\\x13\\xb4\\xea\\xc7\\xba%\\x17\\xee+mk\\\\\\x13\\x05\\x9c0(\\xdar\\xd2$Y\\xa65\\xa3\\xe5\\x99W\\x8e\\x8erh\\x8e\\x0f;\\xfb\\x07\\x9dC\\xfbC\\xde|\\x99\\xc2\\xd1\\xca\\x86\\xd4C\\x13\\x08O\\x1b\\xae\\xc1\\xa9-\\x7fh\\xef+W\\xb0z<\\xc9\\xd5M`G7\\x819:\\xd1\\xd0\\xfe\\xcc\\xf4~\\xb5\\x9d+\\x8fu\\xa0\\x8e5\\x1b\\xc8\\x91.2dG9\\x9a\\x0cX\\xd23\\xe34-:\\xe5U`L\\xe5\\xa8xq*\\x03o\\x91>r\\xb7\\x8c:\\x1aRRnB8V\\xba\\x83\\xbc\\xc0\\xc7\\xe8\\xa0\\x18\\xae\\xad\\xc1D\\xdeD\\xe27\\x05TT\\x07[\\xff\\x89C|;!\\x1d?\\x12;\\xc4\\xfe}?\\xec\\x8c\\xdd\\xfcl\\xfe\\xe8\\x05\\xb3yb+\\xe7\\xe5\\x87\\x9d\\x7f\\x9c{\\x83[;\\xedQ\\xb9\\xfc\\xf2o\\x92\\xc5,\\x9b\\x9e\\x8d\\x91^?\\xec\\xfc*2\\xc1\\xd2\\xc3v?\\xfc\\xb6c\\xefj\\xc6\\x13\\x9f\\xce\\xfbS\\x0f\\x08-\\x95\\x81\\x80\\xeb+\\xcc5\\xfe\\xe3.\\xaeS\\xbd\\xb5\\xf5<\\xe5\\xbf\\x96\\xe1_\\xda\\x15\\xcd\\x8e\\xfc\\x91\\xd6\\x94\\xb1f\\xee\\xd4\\x15\\xa2P\\x18\\xf1z\\x05\\xa0n\\xf0\\x15\\xcfB\\\\8\\xdaov@\\xf0\\xa7\\xc5\\xfd\\xb0\\x83\\x9bp\\x07\\xd8F_>C\\xe4\\xed\\xd0\\x12\\x9f\\xab\\x9b\\x18\\x92\\xaeU\\xae\\x1d\\x13t\\xec\\x08\\xc1\\xcb\\x1d\\x1e\\x9f\\xc0\\xaf\\x7f\\xdc\\xe5&\\xc6oD\\\\\\xf2g\\xfckic8\\xfc\\xc0\\xa8~\\x80\\xff\\xe7\\x9b\\xa2\\xc5\\x04\\x07%a\\tW]\\xba\\x18\\tU%`%#cd\\xa3Fa\\x98\\x08c\\x85m\\xffa\\x10\\xce\\x16\\xefl\\rE\\xc4\\x17\\xb4\\x13\\x82*Z\\xe9(\\xa7\\xf2\\x8d\\x95\\x1bXr\\x99\\x07{{\\xfb\\xed\\x83\\xbd\\x83\\x17\\xad\\x94\\xb4\\x85\\xa3\\x84\\xbc\\xfd?\\x86saA\\xea\\xf0\\xb4\\xfa\\x91\\xc4\\'\\xe2\\xcb\\x91\\xf3\\xc6\\xe09\\xdf\\x1b\\xb8\\x01zP\\x90\\xc3\\x0f{\\xeb\\x1b\\xbb\\x02\\x82I\\xadS\\xeb\\xf1A\\xa9s\\xa9|k\\xa1\\x1d\\xcb\\x9b\\xb9\\xc2~@\\xe9\\x8el\"T\\xa2XB\\xcee\\x85\\xbd\\xe5\\x86\\\\\\x8a\\x9b\\xd2\\xb2h\\xe6\\xf5?\\xdc(\\xb4O}\\x07\\x83\\x04\\xdew?\\xc8\\xc9\\x94\\xa6 \\xc0\\x84\\xbe\\\\)\\x94wE\\x7f\\x02\\xc2\\x9f\\xbc8A\\xcd\\x11NMt\\xc3\\xf9`1\\x07MH5\\xc09<\\x0c\\xe1W\\xecZ\\x1dO\\x1e\\x8a*\\xa0a\\xca\\x19\\xd2\\x82\\xcd\\xd0\\xdf\\x00}\\x0b#\\x10d\\xc4\\xde,\\xe3.f\\xf1hw\\x080!}\\x11\\xf2\\x1a\\x9cy\\x8d\\x1e\\xa1\\xef4\\xa0\\x822?\\xe5G\\xdb\\xfe\\xec\\xc4\\x89=\\x9f\\r\\x89E\\x87y\\x9c\\xcc\"{\\xffM\\xcbF\\x84\\xb1\\x9f\\x1d\\xec\\x1d\\xbd\\xd8\\xb3\\xbf\\xde\\x9c>\\xef\\xe4\\x90+\\x85\\x98\"y\\xd1b`\\x11}\\x16\\xbc\\xfe\\xab\\x1e\\x0c\\xa7\"|\\x98#a\\xb4\\x0bc[^\\x1b\\xf6^\\xb0N]z@\\xb0\\x7f\\xdd9\\xe8\\xbc\\xea\\xa8\\x14N\\xd0\\x99A\\xe4\\xcd$\\x95D\\x9d\\xff\\xee_\\x9c;\\x87\\x9f\\xee\\x94\\xb8\\xc1\\x94\\xbf\\xea\\xfc%&c6\\xb5c\\xf9\\xab\\x1f\\x0e\\x17x\\xb4qQ\\xc7\\xff\\x1f\\x8c\\x18K\\x06j\\xec\\x04\\x0'\n",
    "u_string = codecs.decode(a, 'utf-8')\n",
    "\n",
    "print(u_string)"
   ]
  },
  {
   "cell_type": "code",
   "execution_count": 7,
   "metadata": {},
   "outputs": [],
   "source": [
    "#!/usr/bin/env python3\n",
    "\n",
    "from notebooks.chaos.interceptor import Interceptor\n",
    "from requests import get\n",
    "\n",
    "# Initialize 'Interceptor' here, nothing special\n",
    "intercept = Interceptor()\n",
    "\n",
    "# @intercept.sniff(listener=\"http://127.0.0.1\")\n",
    "@intercept.dump()\n",
    "# @intercept.data(data=\"GET / HTTP/1.1\\r\\n ...modified request goes here\")\n",
    "def example_sniff_connect():\n",
    "    \"\"\"\n",
    "    Patch request data, dump modified request to the logs, and re-send copy of the request\n",
    "    to another endpoint\n",
    "    :return: response headers\n",
    "    \"\"\"\n",
    "    return get(url=\"https://docs.python.org/3/library/ssl.html\")\n",
    "\n",
    "\n"
   ]
  },
  {
   "cell_type": "code",
   "execution_count": 8,
   "metadata": {},
   "outputs": [
    {
     "name": "stderr",
     "output_type": "stream",
     "text": [
      "INFO:Interceptor:Request:\n",
      "GET /3/library/ssl.html HTTP/1.1\n",
      "Host: docs.python.org\n",
      "User-Agent: python-requests/2.31.0\n",
      "Accept-Encoding: gzip, deflate\n",
      "Accept: */*\n",
      "Connection: keep-alive\n",
      "\n",
      "\n"
     ]
    },
    {
     "data": {
      "text/plain": [
       "<Response [200]>"
      ]
     },
     "execution_count": 8,
     "metadata": {},
     "output_type": "execute_result"
    }
   ],
   "source": [
    "example_sniff_connect()"
   ]
  },
  {
   "cell_type": "code",
   "execution_count": 1,
   "metadata": {},
   "outputs": [],
   "source": [
    "import pyshark\n",
    "from cryptography.hazmat.primitives.ciphers import Cipher, algorithms, modes\n",
    "from cryptography.hazmat.backends import default_backend"
   ]
  },
  {
   "cell_type": "code",
   "execution_count": 2,
   "metadata": {},
   "outputs": [],
   "source": [
    "def decrypt_traffic(packet):\n",
    "    if 'tls' in packet:\n",
    "        tls_payload = packet['tls'].payload\n",
    "        key = open(key_path, 'rb').read()\n",
    "        backend = default_backend()\n",
    "        cipher = Cipher(algorithms.AES(key), modes.CBC(bytes.fromhex(tls_payload[:32])), backend=backend)\n",
    "        decryptor = cipher.decryptor()\n",
    "        decrypted_payload = decryptor.update(bytes.fromhex(tls_payload[32:])) + decryptor.finalize()\n",
    "        packet['tls'].payload = decrypted_payload.hex()"
   ]
  },
  {
   "cell_type": "code",
   "execution_count": 4,
   "metadata": {},
   "outputs": [
    {
     "ename": "TSharkNotFoundException",
     "evalue": "TShark not found. Try adding its location to the configuration file. Searched these paths: ['C:\\\\Program Files\\\\Wireshark\\\\tshark.exe', '/home/azhurin/.cache/pypoetry/virtualenvs/waf-ml-Gfc2DYyB-py3.10/bin/tshark', '/home/azhurin/.local/bin/tshark', '/home/azhurin/.pyenv/shims/tshark', '/home/azhurin/.local/bin/tshark', '/home/azhurin/.local/bin/tshark', '/home/azhurin/.local/bin/tshark', '/home/azhurin/.local/bin/tshark', '/home/azhurin/.pyenv/bin/tshark', '/usr/local/sbin/tshark', '/usr/local/bin/tshark', '/usr/sbin/tshark', '/usr/bin/tshark', '/sbin/tshark', '/bin/tshark', '/usr/games/tshark', '/usr/local/games/tshark', '/snap/bin/tshark', '/snap/bin/tshark']",
     "output_type": "error",
     "traceback": [
      "\u001b[0;31m---------------------------------------------------------------------------\u001b[0m",
      "\u001b[0;31mTSharkNotFoundException\u001b[0m                   Traceback (most recent call last)",
      "Cell \u001b[0;32mIn[4], line 1\u001b[0m\n\u001b[0;32m----> 1\u001b[0m capture \u001b[38;5;241m=\u001b[39m \u001b[43mpyshark\u001b[49m\u001b[38;5;241;43m.\u001b[39;49m\u001b[43mLiveCapture\u001b[49m\u001b[43m(\u001b[49m\u001b[43minterface\u001b[49m\u001b[38;5;241;43m=\u001b[39;49m\u001b[38;5;124;43m'\u001b[39;49m\u001b[38;5;124;43meth0\u001b[39;49m\u001b[38;5;124;43m'\u001b[39;49m\u001b[43m,\u001b[49m\u001b[43m \u001b[49m\u001b[43mdisplay_filter\u001b[49m\u001b[38;5;241;43m=\u001b[39;49m\u001b[38;5;124;43m'\u001b[39;49m\u001b[38;5;124;43mssl\u001b[39;49m\u001b[38;5;124;43m'\u001b[39;49m\u001b[43m)\u001b[49m\n",
      "File \u001b[0;32m~/.cache/pypoetry/virtualenvs/waf-ml-Gfc2DYyB-py3.10/lib/python3.10/site-packages/pyshark/capture/live_capture.py:58\u001b[0m, in \u001b[0;36mLiveCapture.__init__\u001b[0;34m(self, interface, bpf_filter, display_filter, only_summaries, decryption_key, encryption_type, output_file, decode_as, disable_protocol, tshark_path, override_prefs, capture_filter, monitor_mode, use_json, use_ek, include_raw, eventloop, custom_parameters, debug)\u001b[0m\n\u001b[1;32m     55\u001b[0m \u001b[38;5;28mself\u001b[39m\u001b[38;5;241m.\u001b[39mbpf_filter \u001b[38;5;241m=\u001b[39m bpf_filter\n\u001b[1;32m     56\u001b[0m \u001b[38;5;28mself\u001b[39m\u001b[38;5;241m.\u001b[39mmonitor_mode \u001b[38;5;241m=\u001b[39m monitor_mode\n\u001b[0;32m---> 58\u001b[0m all_interfaces \u001b[38;5;241m=\u001b[39m \u001b[43mget_tshark_interfaces\u001b[49m\u001b[43m(\u001b[49m\u001b[43mtshark_path\u001b[49m\u001b[43m)\u001b[49m\n\u001b[1;32m     59\u001b[0m \u001b[38;5;28;01mif\u001b[39;00m interface \u001b[38;5;129;01mis\u001b[39;00m \u001b[38;5;28;01mNone\u001b[39;00m:\n\u001b[1;32m     60\u001b[0m     \u001b[38;5;28mself\u001b[39m\u001b[38;5;241m.\u001b[39minterfaces \u001b[38;5;241m=\u001b[39m all_interfaces\n",
      "File \u001b[0;32m~/.cache/pypoetry/virtualenvs/waf-ml-Gfc2DYyB-py3.10/lib/python3.10/site-packages/pyshark/tshark/tshark.py:112\u001b[0m, in \u001b[0;36mget_tshark_interfaces\u001b[0;34m(tshark_path)\u001b[0m\n\u001b[1;32m    107\u001b[0m \u001b[38;5;28;01mdef\u001b[39;00m \u001b[38;5;21mget_tshark_interfaces\u001b[39m(tshark_path\u001b[38;5;241m=\u001b[39m\u001b[38;5;28;01mNone\u001b[39;00m):\n\u001b[1;32m    108\u001b[0m \u001b[38;5;250m    \u001b[39m\u001b[38;5;124;03m\"\"\"Returns a list of interface numbers from the output tshark -D.\u001b[39;00m\n\u001b[1;32m    109\u001b[0m \n\u001b[1;32m    110\u001b[0m \u001b[38;5;124;03m    Used internally to capture on multiple interfaces.\u001b[39;00m\n\u001b[1;32m    111\u001b[0m \u001b[38;5;124;03m    \"\"\"\u001b[39;00m\n\u001b[0;32m--> 112\u001b[0m     parameters \u001b[38;5;241m=\u001b[39m [\u001b[43mget_process_path\u001b[49m\u001b[43m(\u001b[49m\u001b[43mtshark_path\u001b[49m\u001b[43m)\u001b[49m, \u001b[38;5;124m\"\u001b[39m\u001b[38;5;124m-D\u001b[39m\u001b[38;5;124m\"\u001b[39m]\n\u001b[1;32m    113\u001b[0m     \u001b[38;5;28;01mwith\u001b[39;00m \u001b[38;5;28mopen\u001b[39m(os\u001b[38;5;241m.\u001b[39mdevnull, \u001b[38;5;124m\"\u001b[39m\u001b[38;5;124mw\u001b[39m\u001b[38;5;124m\"\u001b[39m) \u001b[38;5;28;01mas\u001b[39;00m null:\n\u001b[1;32m    114\u001b[0m         tshark_interfaces \u001b[38;5;241m=\u001b[39m subprocess\u001b[38;5;241m.\u001b[39mcheck_output(parameters, stderr\u001b[38;5;241m=\u001b[39mnull)\u001b[38;5;241m.\u001b[39mdecode(\u001b[38;5;124m\"\u001b[39m\u001b[38;5;124mutf-8\u001b[39m\u001b[38;5;124m\"\u001b[39m)\n",
      "File \u001b[0;32m~/.cache/pypoetry/virtualenvs/waf-ml-Gfc2DYyB-py3.10/lib/python3.10/site-packages/pyshark/tshark/tshark.py:70\u001b[0m, in \u001b[0;36mget_process_path\u001b[0;34m(tshark_path, process_name)\u001b[0m\n\u001b[1;32m     68\u001b[0m             path \u001b[38;5;241m=\u001b[39m path\u001b[38;5;241m.\u001b[39mreplace(\u001b[38;5;124m\"\u001b[39m\u001b[38;5;130;01m\\\\\u001b[39;00m\u001b[38;5;124m\"\u001b[39m, \u001b[38;5;124m\"\u001b[39m\u001b[38;5;124m/\u001b[39m\u001b[38;5;124m\"\u001b[39m)\n\u001b[1;32m     69\u001b[0m         \u001b[38;5;28;01mreturn\u001b[39;00m path\n\u001b[0;32m---> 70\u001b[0m \u001b[38;5;28;01mraise\u001b[39;00m TSharkNotFoundException(\n\u001b[1;32m     71\u001b[0m     \u001b[38;5;124m\"\u001b[39m\u001b[38;5;124mTShark not found. Try adding its location to the configuration file. \u001b[39m\u001b[38;5;124m\"\u001b[39m\n\u001b[1;32m     72\u001b[0m     \u001b[38;5;124mf\u001b[39m\u001b[38;5;124m\"\u001b[39m\u001b[38;5;124mSearched these paths: \u001b[39m\u001b[38;5;132;01m{\u001b[39;00mpossible_paths\u001b[38;5;132;01m}\u001b[39;00m\u001b[38;5;124m\"\u001b[39m\n\u001b[1;32m     73\u001b[0m )\n",
      "\u001b[0;31mTSharkNotFoundException\u001b[0m: TShark not found. Try adding its location to the configuration file. Searched these paths: ['C:\\\\Program Files\\\\Wireshark\\\\tshark.exe', '/home/azhurin/.cache/pypoetry/virtualenvs/waf-ml-Gfc2DYyB-py3.10/bin/tshark', '/home/azhurin/.local/bin/tshark', '/home/azhurin/.pyenv/shims/tshark', '/home/azhurin/.local/bin/tshark', '/home/azhurin/.local/bin/tshark', '/home/azhurin/.local/bin/tshark', '/home/azhurin/.local/bin/tshark', '/home/azhurin/.pyenv/bin/tshark', '/usr/local/sbin/tshark', '/usr/local/bin/tshark', '/usr/sbin/tshark', '/usr/bin/tshark', '/sbin/tshark', '/bin/tshark', '/usr/games/tshark', '/usr/local/games/tshark', '/snap/bin/tshark', '/snap/bin/tshark']"
     ]
    }
   ],
   "source": [
    "capture = pyshark.LiveCapture(interface='eth0', display_filter='ssl')"
   ]
  },
  {
   "cell_type": "code",
   "execution_count": 9,
   "metadata": {},
   "outputs": [],
   "source": [
    "from pathlib import Path"
   ]
  },
  {
   "cell_type": "code",
   "execution_count": 11,
   "metadata": {},
   "outputs": [
    {
     "data": {
      "text/plain": [
       "PosixPath('.')"
      ]
     },
     "execution_count": 11,
     "metadata": {},
     "output_type": "execute_result"
    }
   ],
   "source": [
    "Path('')"
   ]
  },
  {
   "cell_type": "code",
   "execution_count": 1,
   "metadata": {},
   "outputs": [
    {
     "name": "stdout",
     "output_type": "stream",
     "text": [
      "Starting httpd on port 8000...\n"
     ]
    },
    {
     "ename": "KeyboardInterrupt",
     "evalue": "",
     "output_type": "error",
     "traceback": [
      "\u001b[0;31m---------------------------------------------------------------------------\u001b[0m",
      "\u001b[0;31mKeyboardInterrupt\u001b[0m                         Traceback (most recent call last)",
      "Cell \u001b[0;32mIn[1], line 27\u001b[0m\n\u001b[1;32m     24\u001b[0m     httpd\u001b[38;5;241m.\u001b[39mserve_forever()\n\u001b[1;32m     26\u001b[0m \u001b[38;5;28;01mif\u001b[39;00m \u001b[38;5;18m__name__\u001b[39m \u001b[38;5;241m==\u001b[39m \u001b[38;5;124m'\u001b[39m\u001b[38;5;124m__main__\u001b[39m\u001b[38;5;124m'\u001b[39m:\n\u001b[0;32m---> 27\u001b[0m     \u001b[43mrun\u001b[49m\u001b[43m(\u001b[49m\u001b[43m)\u001b[49m\n",
      "Cell \u001b[0;32mIn[1], line 24\u001b[0m, in \u001b[0;36mrun\u001b[0;34m(server_class, handler_class, port)\u001b[0m\n\u001b[1;32m     22\u001b[0m httpd \u001b[38;5;241m=\u001b[39m server_class(server_address, handler_class)\n\u001b[1;32m     23\u001b[0m \u001b[38;5;28mprint\u001b[39m(\u001b[38;5;124mf\u001b[39m\u001b[38;5;124m'\u001b[39m\u001b[38;5;124mStarting httpd on port \u001b[39m\u001b[38;5;132;01m{\u001b[39;00mport\u001b[38;5;132;01m}\u001b[39;00m\u001b[38;5;124m...\u001b[39m\u001b[38;5;124m'\u001b[39m)\n\u001b[0;32m---> 24\u001b[0m \u001b[43mhttpd\u001b[49m\u001b[38;5;241;43m.\u001b[39;49m\u001b[43mserve_forever\u001b[49m\u001b[43m(\u001b[49m\u001b[43m)\u001b[49m\n",
      "File \u001b[0;32m~/.pyenv/versions/3.10.12/lib/python3.10/socketserver.py:232\u001b[0m, in \u001b[0;36mBaseServer.serve_forever\u001b[0;34m(self, poll_interval)\u001b[0m\n\u001b[1;32m    229\u001b[0m selector\u001b[38;5;241m.\u001b[39mregister(\u001b[38;5;28mself\u001b[39m, selectors\u001b[38;5;241m.\u001b[39mEVENT_READ)\n\u001b[1;32m    231\u001b[0m \u001b[38;5;28;01mwhile\u001b[39;00m \u001b[38;5;129;01mnot\u001b[39;00m \u001b[38;5;28mself\u001b[39m\u001b[38;5;241m.\u001b[39m__shutdown_request:\n\u001b[0;32m--> 232\u001b[0m     ready \u001b[38;5;241m=\u001b[39m \u001b[43mselector\u001b[49m\u001b[38;5;241;43m.\u001b[39;49m\u001b[43mselect\u001b[49m\u001b[43m(\u001b[49m\u001b[43mpoll_interval\u001b[49m\u001b[43m)\u001b[49m\n\u001b[1;32m    233\u001b[0m     \u001b[38;5;66;03m# bpo-35017: shutdown() called during select(), exit immediately.\u001b[39;00m\n\u001b[1;32m    234\u001b[0m     \u001b[38;5;28;01mif\u001b[39;00m \u001b[38;5;28mself\u001b[39m\u001b[38;5;241m.\u001b[39m__shutdown_request:\n",
      "File \u001b[0;32m~/.pyenv/versions/3.10.12/lib/python3.10/selectors.py:416\u001b[0m, in \u001b[0;36m_PollLikeSelector.select\u001b[0;34m(self, timeout)\u001b[0m\n\u001b[1;32m    414\u001b[0m ready \u001b[38;5;241m=\u001b[39m []\n\u001b[1;32m    415\u001b[0m \u001b[38;5;28;01mtry\u001b[39;00m:\n\u001b[0;32m--> 416\u001b[0m     fd_event_list \u001b[38;5;241m=\u001b[39m \u001b[38;5;28;43mself\u001b[39;49m\u001b[38;5;241;43m.\u001b[39;49m\u001b[43m_selector\u001b[49m\u001b[38;5;241;43m.\u001b[39;49m\u001b[43mpoll\u001b[49m\u001b[43m(\u001b[49m\u001b[43mtimeout\u001b[49m\u001b[43m)\u001b[49m\n\u001b[1;32m    417\u001b[0m \u001b[38;5;28;01mexcept\u001b[39;00m \u001b[38;5;167;01mInterruptedError\u001b[39;00m:\n\u001b[1;32m    418\u001b[0m     \u001b[38;5;28;01mreturn\u001b[39;00m ready\n",
      "\u001b[0;31mKeyboardInterrupt\u001b[0m: "
     ]
    }
   ],
   "source": [
    "import http.server\n",
    "import socketserver\n",
    "from urllib.parse import urlparse, parse_qs\n",
    "\n",
    "class MyRequestHandler(http.server.BaseHTTPRequestHandler):\n",
    "    def do_GET(self):\n",
    "        self.url = urlparse(self.path)\n",
    "        self.query = parse_qs(self.url.query)\n",
    "        self.path = self.url.path\n",
    "        \n",
    "        print(f'GET request: {self.path} {self.query}')\n",
    "        \n",
    "        self.send_response(200)\n",
    "        self.send_header('Content-type', 'text/html')\n",
    "        self.end_headers()\n",
    "        self.wfile.write(b'Hello, World!')\n",
    "\n",
    "def run(server_class=http.server.HTTPServer,\n",
    "        handler_class=MyRequestHandler,\n",
    "        port=8000):\n",
    "    server_address = ('', port)\n",
    "    httpd = server_class(server_address, handler_class)\n",
    "    print(f'Starting httpd on port {port}...')\n",
    "    httpd.serve_forever()\n",
    "\n",
    "if __name__ == '__main__':\n",
    "    run()"
   ]
  },
  {
   "cell_type": "code",
   "execution_count": null,
   "metadata": {},
   "outputs": [],
   "source": [
    "import socket\n",
    "\n",
    "import threading\n",
    "\n",
    "def handle_client_request(client_socket):\n",
    "\n",
    "    print(\"Received request:\\n\")\n",
    "\n",
    "    # read the data sent by the client in the request\n",
    "\n",
    "    request = b''\n",
    "\n",
    "    client_socket.setblocking(False)\n",
    "\n",
    "    while True:\n",
    "\n",
    "        try:\n",
    "\n",
    "            # receive data from web server\n",
    "\n",
    "            data = client_socket.recv(1024)\n",
    "\n",
    "            request = request + data\n",
    "\n",
    "            # Receive data from the original destination server\n",
    "\n",
    "            print(f\"{data.decode('utf-8')}\")\n",
    "\n",
    "        except:\n",
    "\n",
    "            break\n",
    "\n",
    "    # extract the webserver's host and port from the request\n",
    "\n",
    "    host, port = extract_host_port_from_request(request)\n",
    "\n",
    "    # create a socket to connect to the original destination server\n",
    "\n",
    "    destination_socket = socket.socket(socket.AF_INET, socket.SOCK_STREAM)\n",
    "\n",
    "    # connect to the destination server\n",
    "\n",
    "    destination_socket.connect((host, port))\n",
    "\n",
    "    # send the original request\n",
    "\n",
    "    destination_socket.sendall(request)\n",
    "\n",
    "    # read the data received from the server\n",
    "\n",
    "    # once chunk at a time and send it to the client\n",
    "\n",
    "    print(\"Received response:\\n\")\n",
    "\n",
    "    while True:\n",
    "\n",
    "        # receive data from web server\n",
    "\n",
    "        data = destination_socket.recv(1024)\n",
    "\n",
    "        # Receive data from the original destination server\n",
    "\n",
    "        print(f\"{data.decode('utf-8')}\")\n",
    "\n",
    "        # no more data to send\n",
    "\n",
    "        if len(data) > 0:\n",
    "\n",
    "            # send back to the client\n",
    "\n",
    "            client_socket.sendall(data)\n",
    "\n",
    "        else:\n",
    "\n",
    "            break\n",
    "\n",
    "    # close the sockets\n",
    "\n",
    "    destination_socket.close()\n",
    "\n",
    "    client_socket.close()\n",
    "\n",
    "def extract_host_port_from_request(request):\n",
    "\n",
    "    # get the value after the \"Host:\" string\n",
    "\n",
    "    host_string_start = request.find(b'Host: ') + len(b'Host: ')\n",
    "\n",
    "    host_string_end = request.find(b'\\r\\n', host_string_start)\n",
    "\n",
    "    host_string = request[host_string_start:host_string_end].decode('utf-8')\n",
    "\n",
    "    webserver_pos = host_string.find(\"/\")\n",
    "\n",
    "    if webserver_pos == -1:\n",
    "\n",
    "        webserver_pos = len(host_string)\n",
    "\n",
    "    # if there is a specific port\n",
    "\n",
    "    port_pos = host_string.find(\":\")\n",
    "\n",
    "    # no port specified\n",
    "\n",
    "    if port_pos == -1 or webserver_pos < port_pos:\n",
    "\n",
    "        # default port\n",
    "\n",
    "        port = 80\n",
    "\n",
    "        host = host_string[:webserver_pos]\n",
    "\n",
    "    else:\n",
    "\n",
    "        # extract the specific port from the host string\n",
    "\n",
    "        port = int((host_string[(port_pos + 1):])[:webserver_pos - port_pos - 1])\n",
    "\n",
    "        host = host_string[:port_pos]\n",
    "\n",
    "    return host, port\n",
    "\n",
    "def start_proxy_server():\n",
    "\n",
    "    port = 8888\n",
    "\n",
    "    # bind the proxy server to a specific address and port\n",
    "\n",
    "    server = socket.socket(socket.AF_INET, socket.SOCK_STREAM)\n",
    "\n",
    "    server.bind(('127.0.0.1', port))\n",
    "\n",
    "    # accept up to 10 simultaneous connections\n",
    "\n",
    "    server.listen(10)\n",
    "\n",
    "    print(f\"Proxy server listening on port {port}...\")\n",
    "\n",
    "    # listen for incoming requests\n",
    "\n",
    "    while True:\n",
    "\n",
    "        client_socket, addr = server.accept()\n",
    "\n",
    "        print(f\"Accepted connection from {addr[0]}:{addr[1]}\")\n",
    "\n",
    "        # create a thread to handle the client request\n",
    "\n",
    "        client_handler = threading.Thread(target=handle_client_request, args=(client_socket,))\n",
    "\n",
    "        client_handler.start()\n",
    "\n",
    "if __name__ == \"__main__\":\n",
    "\n",
    "    start_proxy_server()"
   ]
  }
 ],
 "metadata": {
  "kernelspec": {
   "display_name": "waf-ml-Gfc2DYyB-py3.10",
   "language": "python",
   "name": "python3"
  },
  "language_info": {
   "codemirror_mode": {
    "name": "ipython",
    "version": 3
   },
   "file_extension": ".py",
   "mimetype": "text/x-python",
   "name": "python",
   "nbconvert_exporter": "python",
   "pygments_lexer": "ipython3",
   "version": "3.10.12"
  }
 },
 "nbformat": 4,
 "nbformat_minor": 2
}
